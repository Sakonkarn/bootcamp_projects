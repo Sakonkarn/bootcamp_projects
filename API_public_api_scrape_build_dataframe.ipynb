{
  "nbformat": 4,
  "nbformat_minor": 0,
  "metadata": {
    "colab": {
      "provenance": []
    },
    "kernelspec": {
      "name": "python3",
      "display_name": "Python 3"
    },
    "language_info": {
      "name": "python"
    }
  },
  "cells": [
    {
      "cell_type": "markdown",
      "source": [
        "#API\n",
        "\n",
        "API => Application Programming Interface\n",
        "\n",
        "Request-Response cycle\n",
        "\n",
        "import requests"
      ],
      "metadata": {
        "id": "KSVGmS69qi8m"
      }
    },
    {
      "cell_type": "code",
      "source": [
        "import requests\n",
        "import time\n",
        "import pandas as pd"
      ],
      "metadata": {
        "id": "vpHAhhAgrsqz"
      },
      "execution_count": 70,
      "outputs": []
    },
    {
      "cell_type": "code",
      "source": [
        "url = \"http://makeup-api.herokuapp.com/api/v1/products.json?brand=dior&product_type=lipstick\""
      ],
      "metadata": {
        "id": "kFcadWVSsGNV"
      },
      "execution_count": 3,
      "outputs": []
    },
    {
      "cell_type": "code",
      "source": [
        "response = requests.get(url)"
      ],
      "metadata": {
        "id": "FKboxGh2s2em"
      },
      "execution_count": 4,
      "outputs": []
    },
    {
      "cell_type": "code",
      "source": [
        "response.status_code"
      ],
      "metadata": {
        "colab": {
          "base_uri": "https://localhost:8080/"
        },
        "id": "5JC1bOnpthgP",
        "outputId": "cdd00d61-240a-4f48-d0a3-2dd0aaeeb9d8"
      },
      "execution_count": 5,
      "outputs": [
        {
          "output_type": "execute_result",
          "data": {
            "text/plain": [
              "200"
            ]
          },
          "metadata": {},
          "execution_count": 5
        }
      ]
    },
    {
      "cell_type": "code",
      "source": [
        "result = response.json()"
      ],
      "metadata": {
        "id": "V-L-lOuNtvMI"
      },
      "execution_count": 21,
      "outputs": []
    },
    {
      "cell_type": "code",
      "source": [
        "print(result[1]['brand'])\n",
        "print(result[1]['name'])\n",
        "print(result[1]['price'])\n",
        "print(result[1]['currency'])"
      ],
      "metadata": {
        "colab": {
          "base_uri": "https://localhost:8080/"
        },
        "id": "s1z4Vu-EwZ0A",
        "outputId": "01733766-a074-40aa-ee74-cbb9bef2b59c"
      },
      "execution_count": 53,
      "outputs": [
        {
          "output_type": "stream",
          "name": "stdout",
          "text": [
            "dior\n",
            "Dior Addict Ultra-Gloss\n",
            "24.0\n",
            "GBP\n"
          ]
        }
      ]
    },
    {
      "cell_type": "code",
      "source": [
        "brands = []\n",
        "names = []\n",
        "prices = []\n",
        "currencys = []\n",
        "\n",
        "for i in range(1,11):\n",
        "    resp = requests.get(url)\n",
        "    result = resp.json()\n",
        "    brands.append(result[i]['brand'])\n",
        "    names.append(result[i]['name'])\n",
        "    prices.append(result[i]['price'])\n",
        "    currencys.append(result[i]['currency'])\n",
        "    time.sleep(2)\n",
        "\n",
        "df = pd.DataFrame({\n",
        "    \"brand\" : brands, \"name\": names, \"price\" : prices, \"currency\" : currencys\n",
        "})\n",
        "\n",
        "df\n",
        " "
      ],
      "metadata": {
        "colab": {
          "base_uri": "https://localhost:8080/",
          "height": 363
        },
        "id": "pImcNdcF04xW",
        "outputId": "8b0d5430-bd18-4933-84f7-238d57c53e11"
      },
      "execution_count": 73,
      "outputs": [
        {
          "output_type": "execute_result",
          "data": {
            "text/plain": [
              "  brand                                               name price currency\n",
              "0  dior                            Dior Addict Ultra-Gloss  24.0      GBP\n",
              "1  dior  DIORIFIC MATTE FLUID - Christmas Look 2017 Lim...  27.5      GBP\n",
              "2  dior                                      DIORIFIC KHÔL  29.5      GBP\n",
              "3  dior                                           Diorific  29.5      GBP\n",
              "4  dior             Dior Addict Lipstick - Limited Edition  27.5      GBP\n",
              "5  dior                               Dior Addict Lipstick  27.5      GBP\n",
              "6  dior                          DIOR ADDICT LACQUER STICK  27.5      GBP\n",
              "7  dior                             DIOR ADDICT LIP TATTOO  25.0      GBP\n",
              "8  dior  ROUGE DIOR COLLECTION COUTURE - Christmas Look...  29.5      GBP\n",
              "9  dior                    Dior Holiday Couture Collection  77.0      GBP"
            ],
            "text/html": [
              "\n",
              "  <div id=\"df-096d9bd8-894b-4e0f-b19a-400c01220441\">\n",
              "    <div class=\"colab-df-container\">\n",
              "      <div>\n",
              "<style scoped>\n",
              "    .dataframe tbody tr th:only-of-type {\n",
              "        vertical-align: middle;\n",
              "    }\n",
              "\n",
              "    .dataframe tbody tr th {\n",
              "        vertical-align: top;\n",
              "    }\n",
              "\n",
              "    .dataframe thead th {\n",
              "        text-align: right;\n",
              "    }\n",
              "</style>\n",
              "<table border=\"1\" class=\"dataframe\">\n",
              "  <thead>\n",
              "    <tr style=\"text-align: right;\">\n",
              "      <th></th>\n",
              "      <th>brand</th>\n",
              "      <th>name</th>\n",
              "      <th>price</th>\n",
              "      <th>currency</th>\n",
              "    </tr>\n",
              "  </thead>\n",
              "  <tbody>\n",
              "    <tr>\n",
              "      <th>0</th>\n",
              "      <td>dior</td>\n",
              "      <td>Dior Addict Ultra-Gloss</td>\n",
              "      <td>24.0</td>\n",
              "      <td>GBP</td>\n",
              "    </tr>\n",
              "    <tr>\n",
              "      <th>1</th>\n",
              "      <td>dior</td>\n",
              "      <td>DIORIFIC MATTE FLUID - Christmas Look 2017 Lim...</td>\n",
              "      <td>27.5</td>\n",
              "      <td>GBP</td>\n",
              "    </tr>\n",
              "    <tr>\n",
              "      <th>2</th>\n",
              "      <td>dior</td>\n",
              "      <td>DIORIFIC KHÔL</td>\n",
              "      <td>29.5</td>\n",
              "      <td>GBP</td>\n",
              "    </tr>\n",
              "    <tr>\n",
              "      <th>3</th>\n",
              "      <td>dior</td>\n",
              "      <td>Diorific</td>\n",
              "      <td>29.5</td>\n",
              "      <td>GBP</td>\n",
              "    </tr>\n",
              "    <tr>\n",
              "      <th>4</th>\n",
              "      <td>dior</td>\n",
              "      <td>Dior Addict Lipstick - Limited Edition</td>\n",
              "      <td>27.5</td>\n",
              "      <td>GBP</td>\n",
              "    </tr>\n",
              "    <tr>\n",
              "      <th>5</th>\n",
              "      <td>dior</td>\n",
              "      <td>Dior Addict Lipstick</td>\n",
              "      <td>27.5</td>\n",
              "      <td>GBP</td>\n",
              "    </tr>\n",
              "    <tr>\n",
              "      <th>6</th>\n",
              "      <td>dior</td>\n",
              "      <td>DIOR ADDICT LACQUER STICK</td>\n",
              "      <td>27.5</td>\n",
              "      <td>GBP</td>\n",
              "    </tr>\n",
              "    <tr>\n",
              "      <th>7</th>\n",
              "      <td>dior</td>\n",
              "      <td>DIOR ADDICT LIP TATTOO</td>\n",
              "      <td>25.0</td>\n",
              "      <td>GBP</td>\n",
              "    </tr>\n",
              "    <tr>\n",
              "      <th>8</th>\n",
              "      <td>dior</td>\n",
              "      <td>ROUGE DIOR COLLECTION COUTURE - Christmas Look...</td>\n",
              "      <td>29.5</td>\n",
              "      <td>GBP</td>\n",
              "    </tr>\n",
              "    <tr>\n",
              "      <th>9</th>\n",
              "      <td>dior</td>\n",
              "      <td>Dior Holiday Couture Collection</td>\n",
              "      <td>77.0</td>\n",
              "      <td>GBP</td>\n",
              "    </tr>\n",
              "  </tbody>\n",
              "</table>\n",
              "</div>\n",
              "      <button class=\"colab-df-convert\" onclick=\"convertToInteractive('df-096d9bd8-894b-4e0f-b19a-400c01220441')\"\n",
              "              title=\"Convert this dataframe to an interactive table.\"\n",
              "              style=\"display:none;\">\n",
              "        \n",
              "  <svg xmlns=\"http://www.w3.org/2000/svg\" height=\"24px\"viewBox=\"0 0 24 24\"\n",
              "       width=\"24px\">\n",
              "    <path d=\"M0 0h24v24H0V0z\" fill=\"none\"/>\n",
              "    <path d=\"M18.56 5.44l.94 2.06.94-2.06 2.06-.94-2.06-.94-.94-2.06-.94 2.06-2.06.94zm-11 1L8.5 8.5l.94-2.06 2.06-.94-2.06-.94L8.5 2.5l-.94 2.06-2.06.94zm10 10l.94 2.06.94-2.06 2.06-.94-2.06-.94-.94-2.06-.94 2.06-2.06.94z\"/><path d=\"M17.41 7.96l-1.37-1.37c-.4-.4-.92-.59-1.43-.59-.52 0-1.04.2-1.43.59L10.3 9.45l-7.72 7.72c-.78.78-.78 2.05 0 2.83L4 21.41c.39.39.9.59 1.41.59.51 0 1.02-.2 1.41-.59l7.78-7.78 2.81-2.81c.8-.78.8-2.07 0-2.86zM5.41 20L4 18.59l7.72-7.72 1.47 1.35L5.41 20z\"/>\n",
              "  </svg>\n",
              "      </button>\n",
              "      \n",
              "  <style>\n",
              "    .colab-df-container {\n",
              "      display:flex;\n",
              "      flex-wrap:wrap;\n",
              "      gap: 12px;\n",
              "    }\n",
              "\n",
              "    .colab-df-convert {\n",
              "      background-color: #E8F0FE;\n",
              "      border: none;\n",
              "      border-radius: 50%;\n",
              "      cursor: pointer;\n",
              "      display: none;\n",
              "      fill: #1967D2;\n",
              "      height: 32px;\n",
              "      padding: 0 0 0 0;\n",
              "      width: 32px;\n",
              "    }\n",
              "\n",
              "    .colab-df-convert:hover {\n",
              "      background-color: #E2EBFA;\n",
              "      box-shadow: 0px 1px 2px rgba(60, 64, 67, 0.3), 0px 1px 3px 1px rgba(60, 64, 67, 0.15);\n",
              "      fill: #174EA6;\n",
              "    }\n",
              "\n",
              "    [theme=dark] .colab-df-convert {\n",
              "      background-color: #3B4455;\n",
              "      fill: #D2E3FC;\n",
              "    }\n",
              "\n",
              "    [theme=dark] .colab-df-convert:hover {\n",
              "      background-color: #434B5C;\n",
              "      box-shadow: 0px 1px 3px 1px rgba(0, 0, 0, 0.15);\n",
              "      filter: drop-shadow(0px 1px 2px rgba(0, 0, 0, 0.3));\n",
              "      fill: #FFFFFF;\n",
              "    }\n",
              "  </style>\n",
              "\n",
              "      <script>\n",
              "        const buttonEl =\n",
              "          document.querySelector('#df-096d9bd8-894b-4e0f-b19a-400c01220441 button.colab-df-convert');\n",
              "        buttonEl.style.display =\n",
              "          google.colab.kernel.accessAllowed ? 'block' : 'none';\n",
              "\n",
              "        async function convertToInteractive(key) {\n",
              "          const element = document.querySelector('#df-096d9bd8-894b-4e0f-b19a-400c01220441');\n",
              "          const dataTable =\n",
              "            await google.colab.kernel.invokeFunction('convertToInteractive',\n",
              "                                                     [key], {});\n",
              "          if (!dataTable) return;\n",
              "\n",
              "          const docLinkHtml = 'Like what you see? Visit the ' +\n",
              "            '<a target=\"_blank\" href=https://colab.research.google.com/notebooks/data_table.ipynb>data table notebook</a>'\n",
              "            + ' to learn more about interactive tables.';\n",
              "          element.innerHTML = '';\n",
              "          dataTable['output_type'] = 'display_data';\n",
              "          await google.colab.output.renderOutput(dataTable, element);\n",
              "          const docLink = document.createElement('div');\n",
              "          docLink.innerHTML = docLinkHtml;\n",
              "          element.appendChild(docLink);\n",
              "        }\n",
              "      </script>\n",
              "    </div>\n",
              "  </div>\n",
              "  "
            ]
          },
          "metadata": {},
          "execution_count": 73
        }
      ]
    }
  ]
}