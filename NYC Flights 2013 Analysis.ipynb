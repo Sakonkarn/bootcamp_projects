{
 "cells":[
  {
   "cell_type":"markdown",
   "source":[
    "# NYC Flights 2013 Analysis "
   ],
   "attachments":{
    
   },
   "metadata":{
    "datalore":{
     "node_id":"xpxR4guTZNKsegaVAh9TbT",
     "type":"MD",
     "hide_input_from_viewers":false,
     "hide_output_from_viewers":false,
     "report_properties":{
      "y":0
     }
    }
   }
  },
  {
   "cell_type":"code",
   "source":[
    "#load library\n",
    "library(tidyverse)"
   ],
   "execution_count":43,
   "outputs":[
    {
     "name":"stderr",
     "text":[
      "Warning message in system(\"timedatectl\", intern = TRUE):\n",
      "“running command 'timedatectl' had status 1”\n",
      "Warning message:\n",
      "“Failed to locate timezone database”\n",
      "── \u001b[1mAttaching packages\u001b[22m ─────────────────────────────────────── tidyverse 1.3.1 ──\n",
      "\n",
      "\u001b[32m✔\u001b[39m \u001b[34mggplot2\u001b[39m 3.3.5     \u001b[32m✔\u001b[39m \u001b[34mpurrr  \u001b[39m 0.3.4\n",
      "\u001b[32m✔\u001b[39m \u001b[34mtibble \u001b[39m 3.1.5     \u001b[32m✔\u001b[39m \u001b[34mdplyr  \u001b[39m 1.0.7\n",
      "\u001b[32m✔\u001b[39m \u001b[34mtidyr  \u001b[39m 1.1.4     \u001b[32m✔\u001b[39m \u001b[34mstringr\u001b[39m 1.4.0\n",
      "\u001b[32m✔\u001b[39m \u001b[34mreadr  \u001b[39m 2.0.2     \u001b[32m✔\u001b[39m \u001b[34mforcats\u001b[39m 0.5.1\n",
      "\n",
      "── \u001b[1mConflicts\u001b[22m ────────────────────────────────────────── tidyverse_conflicts() ──\n",
      "\u001b[31m✖\u001b[39m \u001b[34mdplyr\u001b[39m::\u001b[32mfilter()\u001b[39m  masks \u001b[34mstats\u001b[39m::filter()\n",
      "\u001b[31m✖\u001b[39m \u001b[34mpurrr\u001b[39m::\u001b[32mflatten()\u001b[39m masks \u001b[34mjsonlite\u001b[39m::flatten()\n",
      "\u001b[31m✖\u001b[39m \u001b[34mdplyr\u001b[39m::\u001b[32mlag()\u001b[39m     masks \u001b[34mstats\u001b[39m::lag()\n",
      "\n"
     ],
     "output_type":"stream"
    }
   ],
   "metadata":{
    "datalore":{
     "node_id":"PjuhGLlOK0wSB2B8rg01rj",
     "type":"CODE",
     "hide_input_from_viewers":false,
     "hide_output_from_viewers":false,
     "report_properties":{
      "y":4
     }
    }
   }
  },
  {
   "cell_type":"code",
   "source":[
    "flights <- read.csv(\"flights.csv\")\n",
    "airlines <- read.csv(\"airlines.csv\")"
   ],
   "execution_count":44,
   "outputs":[
    
   ],
   "metadata":{
    "datalore":{
     "node_id":"paDIiEzvaADEv5BZFO9pWU",
     "type":"CODE",
     "hide_input_from_viewers":false,
     "hide_output_from_viewers":false,
     "report_properties":{
      "y":17
     }
    }
   }
  },
  {
   "cell_type":"code",
   "source":[
    "glimpse(flights)"
   ],
   "execution_count":45,
   "outputs":[
    {
     "name":"stdout",
     "text":[
      "Rows: 336,776\n",
      "Columns: 19\n",
      "$ year           \u001b[3m\u001b[90m<int>\u001b[39m\u001b[23m 2013, 2013, 2013, 2013, 2013, 2013, 2013, 2013, 2013, 2…\n",
      "$ month          \u001b[3m\u001b[90m<int>\u001b[39m\u001b[23m 1, 1, 1, 1, 1, 1, 1, 1, 1, 1, 1, 1, 1, 1, 1, 1, 1, 1, 1…\n",
      "$ day            \u001b[3m\u001b[90m<int>\u001b[39m\u001b[23m 1, 1, 1, 1, 1, 1, 1, 1, 1, 1, 1, 1, 1, 1, 1, 1, 1, 1, 1…\n",
      "$ dep_time       \u001b[3m\u001b[90m<int>\u001b[39m\u001b[23m 517, 533, 542, 544, 554, 554, 555, 557, 557, 558, 558, …\n",
      "$ sched_dep_time \u001b[3m\u001b[90m<int>\u001b[39m\u001b[23m 515, 529, 540, 545, 600, 558, 600, 600, 600, 600, 600, …\n",
      "$ dep_delay      \u001b[3m\u001b[90m<int>\u001b[39m\u001b[23m 2, 4, 2, -1, -6, -4, -5, -3, -3, -2, -2, -2, -2, -2, -1…\n",
      "$ arr_time       \u001b[3m\u001b[90m<int>\u001b[39m\u001b[23m 830, 850, 923, 1004, 812, 740, 913, 709, 838, 753, 849,…\n",
      "$ sched_arr_time \u001b[3m\u001b[90m<int>\u001b[39m\u001b[23m 819, 830, 850, 1022, 837, 728, 854, 723, 846, 745, 851,…\n",
      "$ arr_delay      \u001b[3m\u001b[90m<int>\u001b[39m\u001b[23m 11, 20, 33, -18, -25, 12, 19, -14, -8, 8, -2, -3, 7, -1…\n",
      "$ carrier        \u001b[3m\u001b[90m<chr>\u001b[39m\u001b[23m \"UA\", \"UA\", \"AA\", \"B6\", \"DL\", \"UA\", \"B6\", \"EV\", \"B6\", \"…\n",
      "$ flight         \u001b[3m\u001b[90m<int>\u001b[39m\u001b[23m 1545, 1714, 1141, 725, 461, 1696, 507, 5708, 79, 301, 4…\n",
      "$ tailnum        \u001b[3m\u001b[90m<chr>\u001b[39m\u001b[23m \"N14228\", \"N24211\", \"N619AA\", \"N804JB\", \"N668DN\", \"N394…\n",
      "$ origin         \u001b[3m\u001b[90m<chr>\u001b[39m\u001b[23m \"EWR\", \"LGA\", \"JFK\", \"JFK\", \"LGA\", \"EWR\", \"EWR\", \"LGA\",…\n",
      "$ dest           \u001b[3m\u001b[90m<chr>\u001b[39m\u001b[23m \"IAH\", \"IAH\", \"MIA\", \"BQN\", \"ATL\", \"ORD\", \"FLL\", \"IAD\",…\n",
      "$ air_time       \u001b[3m\u001b[90m<int>\u001b[39m\u001b[23m 227, 227, 160, 183, 116, 150, 158, 53, 140, 138, 149, 1…\n",
      "$ distance       \u001b[3m\u001b[90m<int>\u001b[39m\u001b[23m 1400, 1416, 1089, 1576, 762, 719, 1065, 229, 944, 733, …\n",
      "$ hour           \u001b[3m\u001b[90m<int>\u001b[39m\u001b[23m 5, 5, 5, 5, 6, 5, 6, 6, 6, 6, 6, 6, 6, 6, 6, 5, 6, 6, 6…\n",
      "$ minute         \u001b[3m\u001b[90m<int>\u001b[39m\u001b[23m 15, 29, 40, 45, 0, 58, 0, 0, 0, 0, 0, 0, 0, 0, 0, 59, 0…\n",
      "$ time_hour      \u001b[3m\u001b[90m<chr>\u001b[39m\u001b[23m \"2013-01-01T10:00:00Z\", \"2013-01-01T10:00:00Z\", \"2013-0…\n"
     ],
     "output_type":"stream"
    }
   ],
   "metadata":{
    "datalore":{
     "node_id":"Wozm5uTddELGWgRmfKTQyz",
     "type":"CODE",
     "hide_input_from_viewers":false,
     "hide_output_from_viewers":false,
     "report_properties":{
      "y":21
     }
    }
   }
  },
  {
   "cell_type":"code",
   "source":[
    "glimpse(airlines)"
   ],
   "execution_count":64,
   "outputs":[
    {
     "name":"stdout",
     "text":[
      "Rows: 16\n",
      "Columns: 2\n",
      "$ carrier \u001b[3m\u001b[90m<chr>\u001b[39m\u001b[23m \"9E\", \"AA\", \"AS\", \"B6\", \"DL\", \"EV\", \"F9\", \"FL\", \"HA\", \"MQ\", \"O…\n",
      "$ name    \u001b[3m\u001b[90m<chr>\u001b[39m\u001b[23m \"Endeavor Air Inc.\", \"American Airlines Inc.\", \"Alaska Airline…\n"
     ],
     "output_type":"stream"
    }
   ],
   "metadata":{
    "datalore":{
     "node_id":"F9aU8mEpXvhkq9uaOif5Um",
     "type":"CODE",
     "hide_input_from_viewers":false,
     "hide_output_from_viewers":false,
     "report_properties":{
      "y":34
     }
    }
   }
  },
  {
   "cell_type":"markdown",
   "source":[
    "# Q1 : How many flights destination at LAX on 25 December 2013?"
   ],
   "attachments":{
    
   },
   "metadata":{
    "datalore":{
     "node_id":"LfbNLjlYdpwanqCxBBkecn",
     "type":"MD",
     "hide_input_from_viewers":false,
     "hide_output_from_viewers":false,
     "report_properties":{
      "y":40
     }
    }
   }
  },
  {
   "cell_type":"code",
   "source":[
    "flights %>%\n",
    "    filter(dest == \"LAX\", month == 12, day == 25) %>%\n",
    "    count(dest)"
   ],
   "execution_count":129,
   "outputs":[
    {
     "data":{
      "text\/html":[
       "<table class=\"dataframe\">\n",
       "<caption>A data.frame: 1 × 2<\/caption>\n",
       "<thead>\n",
       "\t<tr><th scope=col>dest<\/th><th scope=col>n<\/th><\/tr>\n",
       "\t<tr><th scope=col>&lt;chr&gt;<\/th><th scope=col>&lt;int&gt;<\/th><\/tr>\n",
       "<\/thead>\n",
       "<tbody>\n",
       "\t<tr><td>LAX<\/td><td>36<\/td><\/tr>\n",
       "<\/tbody>\n",
       "<\/table>\n"
      ]
     },
     "metadata":{
      
     },
     "output_type":"display_data"
    }
   ],
   "metadata":{
    "datalore":{
     "node_id":"e8KS6tGhcBKLuxkKON5Cw9",
     "type":"CODE",
     "hide_input_from_viewers":false,
     "hide_output_from_viewers":false,
     "report_properties":{
      "y":44
     }
    }
   }
  },
  {
   "cell_type":"markdown",
   "source":[
    "# Q2 : How many flights in 2013 group by carrier?"
   ],
   "attachments":{
    
   },
   "metadata":{
    "datalore":{
     "node_id":"KvnbiwFG0wjLWurqawwTSg",
     "type":"MD",
     "hide_input_from_viewers":false,
     "hide_output_from_viewers":false,
     "report_properties":{
      "y":52
     }
    }
   }
  },
  {
   "cell_type":"code",
   "source":[
    "flights %>%\n",
    "    group_by(carrier) %>%\n",
    "    summarise(count_flight = n()) %>%\n",
    "    arrange(desc(count_flight)) %>%\n",
    "    left_join(airlines ,by = \"carrier\") "
   ],
   "execution_count":92,
   "outputs":[
    {
     "data":{
      "text\/html":[
       "<table class=\"dataframe\">\n",
       "<caption>A tibble: 16 × 3<\/caption>\n",
       "<thead>\n",
       "\t<tr><th scope=col>carrier<\/th><th scope=col>count_flight<\/th><th scope=col>name<\/th><\/tr>\n",
       "\t<tr><th scope=col>&lt;chr&gt;<\/th><th scope=col>&lt;int&gt;<\/th><th scope=col>&lt;chr&gt;<\/th><\/tr>\n",
       "<\/thead>\n",
       "<tbody>\n",
       "\t<tr><td>UA<\/td><td>58665<\/td><td>United Air Lines Inc.      <\/td><\/tr>\n",
       "\t<tr><td>B6<\/td><td>54635<\/td><td>JetBlue Airways            <\/td><\/tr>\n",
       "\t<tr><td>EV<\/td><td>54173<\/td><td>ExpressJet Airlines Inc.   <\/td><\/tr>\n",
       "\t<tr><td>DL<\/td><td>48110<\/td><td>Delta Air Lines Inc.       <\/td><\/tr>\n",
       "\t<tr><td>AA<\/td><td>32729<\/td><td>American Airlines Inc.     <\/td><\/tr>\n",
       "\t<tr><td>MQ<\/td><td>26397<\/td><td>Envoy Air                  <\/td><\/tr>\n",
       "\t<tr><td>US<\/td><td>20536<\/td><td>US Airways Inc.            <\/td><\/tr>\n",
       "\t<tr><td>9E<\/td><td>18460<\/td><td>Endeavor Air Inc.          <\/td><\/tr>\n",
       "\t<tr><td>WN<\/td><td>12275<\/td><td>Southwest Airlines Co.     <\/td><\/tr>\n",
       "\t<tr><td>VX<\/td><td> 5162<\/td><td>Virgin America             <\/td><\/tr>\n",
       "\t<tr><td>FL<\/td><td> 3260<\/td><td>AirTran Airways Corporation<\/td><\/tr>\n",
       "\t<tr><td>AS<\/td><td>  714<\/td><td>Alaska Airlines Inc.       <\/td><\/tr>\n",
       "\t<tr><td>F9<\/td><td>  685<\/td><td>Frontier Airlines Inc.     <\/td><\/tr>\n",
       "\t<tr><td>YV<\/td><td>  601<\/td><td>Mesa Airlines Inc.         <\/td><\/tr>\n",
       "\t<tr><td>HA<\/td><td>  342<\/td><td>Hawaiian Airlines Inc.     <\/td><\/tr>\n",
       "\t<tr><td>OO<\/td><td>   32<\/td><td>SkyWest Airlines Inc.      <\/td><\/tr>\n",
       "<\/tbody>\n",
       "<\/table>\n"
      ]
     },
     "metadata":{
      
     },
     "output_type":"display_data"
    }
   ],
   "metadata":{
    "datalore":{
     "node_id":"NrKziP3fLcSiUaYafjXVYa",
     "type":"CODE",
     "hide_input_from_viewers":false,
     "hide_output_from_viewers":false,
     "report_properties":{
      "y":56
     }
    }
   }
  },
  {
   "cell_type":"markdown",
   "source":[
    "# Q:3 Top 10 airlines had the most flights in June 2013"
   ],
   "attachments":{
    
   },
   "metadata":{
    "datalore":{
     "node_id":"rzHs1s9W41l25U48s9jqsz",
     "type":"MD",
     "hide_input_from_viewers":false,
     "hide_output_from_viewers":false,
     "report_properties":{
      "y":79
     }
    }
   }
  },
  {
   "cell_type":"code",
   "source":[
    "flights %>%\n",
    "    \n",
    "    filter(month == 6) %>%\n",
    "    count(carrier) %>%\n",
    "    arrange(desc(n)) %>%\n",
    "    left_join(airlines, by = \"carrier\") %>%\n",
    "    head(10) "
   ],
   "execution_count":131,
   "outputs":[
    {
     "data":{
      "text\/html":[
       "<table class=\"dataframe\">\n",
       "<caption>A data.frame: 10 × 3<\/caption>\n",
       "<thead>\n",
       "\t<tr><th><\/th><th scope=col>carrier<\/th><th scope=col>n<\/th><th scope=col>name<\/th><\/tr>\n",
       "\t<tr><th><\/th><th scope=col>&lt;chr&gt;<\/th><th scope=col>&lt;int&gt;<\/th><th scope=col>&lt;chr&gt;<\/th><\/tr>\n",
       "<\/thead>\n",
       "<tbody>\n",
       "\t<tr><th scope=row>1<\/th><td>UA<\/td><td>4975<\/td><td>United Air Lines Inc.   <\/td><\/tr>\n",
       "\t<tr><th scope=row>2<\/th><td>B6<\/td><td>4622<\/td><td>JetBlue Airways         <\/td><\/tr>\n",
       "\t<tr><th scope=row>3<\/th><td>EV<\/td><td>4456<\/td><td>ExpressJet Airlines Inc.<\/td><\/tr>\n",
       "\t<tr><th scope=row>4<\/th><td>DL<\/td><td>4126<\/td><td>Delta Air Lines Inc.    <\/td><\/tr>\n",
       "\t<tr><th scope=row>5<\/th><td>AA<\/td><td>2757<\/td><td>American Airlines Inc.  <\/td><\/tr>\n",
       "\t<tr><th scope=row>6<\/th><td>MQ<\/td><td>2178<\/td><td>Envoy Air               <\/td><\/tr>\n",
       "\t<tr><th scope=row>7<\/th><td>US<\/td><td>1736<\/td><td>US Airways Inc.         <\/td><\/tr>\n",
       "\t<tr><th scope=row>8<\/th><td>9E<\/td><td>1437<\/td><td>Endeavor Air Inc.       <\/td><\/tr>\n",
       "\t<tr><th scope=row>9<\/th><td>WN<\/td><td>1028<\/td><td>Southwest Airlines Co.  <\/td><\/tr>\n",
       "\t<tr><th scope=row>10<\/th><td>VX<\/td><td> 480<\/td><td>Virgin America          <\/td><\/tr>\n",
       "<\/tbody>\n",
       "<\/table>\n"
      ]
     },
     "metadata":{
      
     },
     "output_type":"display_data"
    }
   ],
   "metadata":{
    "datalore":{
     "node_id":"vxYvj1CCYOIPL2nG7ntg6N",
     "type":"CODE",
     "hide_input_from_viewers":false,
     "hide_output_from_viewers":false,
     "report_properties":{
      "y":83
     }
    }
   }
  },
  {
   "cell_type":"markdown",
   "source":[
    "# Q4 : Top 3 flights have the longest distance"
   ],
   "attachments":{
    
   },
   "metadata":{
    "datalore":{
     "node_id":"d2OmA2XVWPxHxUCP7beL7T",
     "type":"MD",
     "hide_input_from_viewers":false,
     "hide_output_from_viewers":false,
     "report_properties":{
      "y":102
     }
    }
   }
  },
  {
   "cell_type":"code",
   "source":[
    "flights %>%\n",
    "    distinct(carrier,flight, origin , dest, distance)%>%\n",
    "    arrange(desc(distance))%>%\n",
    "    head(3)"
   ],
   "execution_count":111,
   "outputs":[
    {
     "data":{
      "text\/html":[
       "<table class=\"dataframe\">\n",
       "<caption>A data.frame: 3 × 5<\/caption>\n",
       "<thead>\n",
       "\t<tr><th><\/th><th scope=col>carrier<\/th><th scope=col>flight<\/th><th scope=col>origin<\/th><th scope=col>dest<\/th><th scope=col>distance<\/th><\/tr>\n",
       "\t<tr><th><\/th><th scope=col>&lt;chr&gt;<\/th><th scope=col>&lt;int&gt;<\/th><th scope=col>&lt;chr&gt;<\/th><th scope=col>&lt;chr&gt;<\/th><th scope=col>&lt;int&gt;<\/th><\/tr>\n",
       "<\/thead>\n",
       "<tbody>\n",
       "\t<tr><th scope=row>1<\/th><td>HA<\/td><td> 51<\/td><td>JFK<\/td><td>HNL<\/td><td>4983<\/td><\/tr>\n",
       "\t<tr><th scope=row>2<\/th><td>UA<\/td><td> 15<\/td><td>EWR<\/td><td>HNL<\/td><td>4963<\/td><\/tr>\n",
       "\t<tr><th scope=row>3<\/th><td>UA<\/td><td>887<\/td><td>EWR<\/td><td>ANC<\/td><td>3370<\/td><\/tr>\n",
       "<\/tbody>\n",
       "<\/table>\n"
      ]
     },
     "metadata":{
      
     },
     "output_type":"display_data"
    }
   ],
   "metadata":{
    "datalore":{
     "node_id":"9rWWtfLiPEvRLFqzMXawPe",
     "type":"CODE",
     "hide_input_from_viewers":false,
     "hide_output_from_viewers":false,
     "report_properties":{
      "y":105
     }
    }
   }
  },
  {
   "cell_type":"markdown",
   "source":[
    "# Q5 : What month has the most flights? "
   ],
   "attachments":{
    
   },
   "metadata":{
    "datalore":{
     "node_id":"iU9brz04QxGyVcLX0Qqjri",
     "type":"MD",
     "hide_input_from_viewers":false,
     "hide_output_from_viewers":false,
     "report_properties":{
      "y":108
     }
    }
   }
  },
  {
   "cell_type":"code",
   "source":[
    "flights %>%\n",
    "    group_by(month) %>%\n",
    "    summarise(count_flight = n()) %>%\n",
    "    arrange(desc(count_flight)) %>%\n",
    "    head(1)"
   ],
   "execution_count":72,
   "outputs":[
    {
     "data":{
      "text\/html":[
       "<table class=\"dataframe\">\n",
       "<caption>A tibble: 1 × 2<\/caption>\n",
       "<thead>\n",
       "\t<tr><th scope=col>month<\/th><th scope=col>count_flight<\/th><\/tr>\n",
       "\t<tr><th scope=col>&lt;int&gt;<\/th><th scope=col>&lt;int&gt;<\/th><\/tr>\n",
       "<\/thead>\n",
       "<tbody>\n",
       "\t<tr><td>7<\/td><td>29425<\/td><\/tr>\n",
       "<\/tbody>\n",
       "<\/table>\n"
      ]
     },
     "metadata":{
      
     },
     "output_type":"display_data"
    }
   ],
   "metadata":{
    "datalore":{
     "node_id":"DioSMWNJHMma0auBV3fpcl",
     "type":"CODE",
     "hide_input_from_viewers":false,
     "hide_output_from_viewers":false,
     "report_properties":{
      "y":111
     }
    }
   }
  }
 ],
 "metadata":{
  "kernelspec":{
   "display_name":"R",
   "language":"r",
   "name":"ir"
  },
  "datalore":{
   "version":1,
   "computation_mode":"JUPYTER",
   "package_manager":"conda",
   "base_environment":"minimal",
   "packages":[
    
   ]
  }
 },
 "nbformat":4,
 "nbformat_minor":4
}