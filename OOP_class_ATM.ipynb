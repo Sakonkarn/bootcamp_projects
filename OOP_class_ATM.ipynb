{
  "nbformat": 4,
  "nbformat_minor": 0,
  "metadata": {
    "colab": {
      "provenance": []
    },
    "kernelspec": {
      "name": "python3",
      "display_name": "Python 3"
    },
    "language_info": {
      "name": "python"
    }
  },
  "cells": [
    {
      "cell_type": "markdown",
      "source": [
        "# ATM"
      ],
      "metadata": {
        "id": "tTjD2F4n0rhq"
      }
    },
    {
      "cell_type": "code",
      "source": [
        "class ATM :\n",
        "    def __init__(self, name, balance) :\n",
        "        self.name = name\n",
        "        self.balance = balance\n",
        "\n",
        "    def check_balance(self):\n",
        "        message = f\"Account : {self.name}, Balance : {self.balance}\"\n",
        "        print(message)\n",
        "\n",
        "    def deposit(self, money):\n",
        "        self.balance += money\n",
        "        print(f\"New Balance: {self.balance}\")\n",
        "        print(\"Deposit successfully.\")\n",
        "\n",
        "    def change_name(self, new_acc_name):\n",
        "        self.name = new_acc_name\n",
        "        print(f\"New Name: {self.name}\")\n",
        "        print(\"Your account name has been change.\")\n",
        "\n",
        "    def withdraw(self, money):\n",
        "        self.balance -= money\n",
        "        print(f\"New Balance: {self.balance}\")\n",
        "        print(\"Withdraw successfully.\")\n",
        "\n",
        "    def tranfer(self, money):\n",
        "        self.balance -= money\n",
        "        print(f\"New Balance: {self.balance}\")\n",
        "        print(\"Transfer successfully.\")\n",
        "\n",
        "    def OTP(self, OTP) :\n",
        "        self.message = OTP\n",
        "        print(f\"OTP : {self.message}\")\n",
        "        print(\"Complete\")\n",
        "\n",
        "    def bill_payment(self, money) :\n",
        "        self.balance -= money\n",
        "        print(f\"New Balance: {self.balance}\")\n",
        "        print(\"Bill payment successfully.\")\n"
      ],
      "metadata": {
        "id": "MVjYMa190qg4"
      },
      "execution_count": 72,
      "outputs": []
    },
    {
      "cell_type": "code",
      "source": [
        "scb = ATM(\"Karn\", 1000)"
      ],
      "metadata": {
        "id": "L6g2t76m1d_x"
      },
      "execution_count": 73,
      "outputs": []
    },
    {
      "cell_type": "code",
      "source": [
        "scb.check_balance()"
      ],
      "metadata": {
        "colab": {
          "base_uri": "https://localhost:8080/"
        },
        "id": "u6Z_EpDZ12GA",
        "outputId": "bc7642f4-d435-43ce-82e7-1804c266a3eb"
      },
      "execution_count": 74,
      "outputs": [
        {
          "output_type": "stream",
          "name": "stdout",
          "text": [
            "Account : Karn, Balance : 1000\n"
          ]
        }
      ]
    },
    {
      "cell_type": "code",
      "source": [
        "scb.deposit(900)"
      ],
      "metadata": {
        "colab": {
          "base_uri": "https://localhost:8080/"
        },
        "id": "Ke6BFZRx39sN",
        "outputId": "88d73ce5-3c62-4c7e-fe63-23d3958d3601"
      },
      "execution_count": 75,
      "outputs": [
        {
          "output_type": "stream",
          "name": "stdout",
          "text": [
            "New Balance: 1900\n",
            "Deposit successfully.\n"
          ]
        }
      ]
    },
    {
      "cell_type": "code",
      "source": [
        "scb.balance"
      ],
      "metadata": {
        "colab": {
          "base_uri": "https://localhost:8080/"
        },
        "id": "lNeGBXaa4EUh",
        "outputId": "b4a3da4b-00fb-4c34-b183-4325dccb49a4"
      },
      "execution_count": 76,
      "outputs": [
        {
          "output_type": "execute_result",
          "data": {
            "text/plain": [
              "1900"
            ]
          },
          "metadata": {},
          "execution_count": 76
        }
      ]
    },
    {
      "cell_type": "code",
      "source": [
        "scb.change_name(\"Marry Anne\")"
      ],
      "metadata": {
        "colab": {
          "base_uri": "https://localhost:8080/"
        },
        "id": "1UqSQ6394-Jl",
        "outputId": "b94fa6c9-1626-4099-80ac-df323bdc4cf4"
      },
      "execution_count": 77,
      "outputs": [
        {
          "output_type": "stream",
          "name": "stdout",
          "text": [
            "New Name: Marry Anne\n",
            "Your account name has been change.\n"
          ]
        }
      ]
    },
    {
      "cell_type": "code",
      "source": [
        "scb.name"
      ],
      "metadata": {
        "colab": {
          "base_uri": "https://localhost:8080/",
          "height": 36
        },
        "id": "6dYac_vb5McB",
        "outputId": "bd6be2b8-1b87-470e-9541-ea944439a547"
      },
      "execution_count": 78,
      "outputs": [
        {
          "output_type": "execute_result",
          "data": {
            "text/plain": [
              "'Marry Anne'"
            ],
            "application/vnd.google.colaboratory.intrinsic+json": {
              "type": "string"
            }
          },
          "metadata": {},
          "execution_count": 78
        }
      ]
    },
    {
      "cell_type": "code",
      "source": [
        "scb.withdraw(500)"
      ],
      "metadata": {
        "colab": {
          "base_uri": "https://localhost:8080/"
        },
        "id": "90DLrXNY79B_",
        "outputId": "a97a2bf0-97d2-4968-93ff-332136d908e8"
      },
      "execution_count": 79,
      "outputs": [
        {
          "output_type": "stream",
          "name": "stdout",
          "text": [
            "New Balance: 1400\n",
            "Withdraw successfully.\n"
          ]
        }
      ]
    },
    {
      "cell_type": "code",
      "source": [
        "scb.tranfer(200)"
      ],
      "metadata": {
        "colab": {
          "base_uri": "https://localhost:8080/"
        },
        "id": "hicqVKRC8_6U",
        "outputId": "0813a848-53b6-4f28-98f0-8a99ab4599ae"
      },
      "execution_count": 80,
      "outputs": [
        {
          "output_type": "stream",
          "name": "stdout",
          "text": [
            "New Balance: 1200\n",
            "Transfer successfully.\n"
          ]
        }
      ]
    },
    {
      "cell_type": "code",
      "source": [
        "scb.OTP(1234)"
      ],
      "metadata": {
        "colab": {
          "base_uri": "https://localhost:8080/"
        },
        "id": "auDC9UwR_EEK",
        "outputId": "f258772b-45d1-4f0a-92da-cdd5e5bfe83f"
      },
      "execution_count": 81,
      "outputs": [
        {
          "output_type": "stream",
          "name": "stdout",
          "text": [
            "OTP : 1234\n",
            "Complete\n"
          ]
        }
      ]
    },
    {
      "cell_type": "code",
      "source": [
        "scb.bill_payment(300)"
      ],
      "metadata": {
        "colab": {
          "base_uri": "https://localhost:8080/"
        },
        "id": "TqPIjBusAd3x",
        "outputId": "406cd272-1be8-464b-b59d-ce3ef9e05841"
      },
      "execution_count": 82,
      "outputs": [
        {
          "output_type": "stream",
          "name": "stdout",
          "text": [
            "New Balance: 900\n",
            "Bill payment successfully.\n"
          ]
        }
      ]
    }
  ]
}