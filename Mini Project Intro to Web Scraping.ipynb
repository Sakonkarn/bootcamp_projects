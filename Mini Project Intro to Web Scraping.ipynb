{
 "cells":[
  {
   "cell_type":"markdown",
   "source":[
    "# IMDB"
   ],
   "attachments":{
    
   },
   "metadata":{
    "datalore":{
     "node_id":"IMDB",
     "type":"MD",
     "hide_input_from_viewers":false,
     "hide_output_from_viewers":false,
     "sheet_delimiter":true
    }
   }
  },
  {
   "cell_type":"markdown",
   "source":[
    "# Mini Project01 - IMDB web scraping"
   ],
   "attachments":{
    
   },
   "metadata":{
    "datalore":{
     "node_id":"xDolscdULLe1Lyq6oU0Rx1",
     "type":"MD",
     "hide_input_from_viewers":false,
     "hide_output_from_viewers":false
    }
   }
  },
  {
   "cell_type":"code",
   "source":[
    "library(tidyverse)\n",
    "library(rvest) # scrape data from internet"
   ],
   "execution_count":3,
   "outputs":[
    
   ],
   "metadata":{
    "datalore":{
     "node_id":"V9jzxgDtXRrgKvenImjNku",
     "type":"CODE",
     "hide_input_from_viewers":false,
     "hide_output_from_viewers":false
    }
   }
  },
  {
   "cell_type":"code",
   "source":[
    "url <- \"https:\/\/www.imdb.com\/search\/title\/?groups=top_100&sort=user_rating,desc\""
   ],
   "execution_count":4,
   "outputs":[
    
   ],
   "metadata":{
    "datalore":{
     "node_id":"189IV5mGuqGnUCmDmfNo9I",
     "type":"CODE",
     "hide_input_from_viewers":false,
     "hide_output_from_viewers":false
    }
   }
  },
  {
   "cell_type":"code",
   "source":[
    "print(url)"
   ],
   "execution_count":5,
   "outputs":[
    {
     "name":"stdout",
     "text":[
      "[1] \"https:\/\/www.imdb.com\/search\/title\/?groups=top_100&sort=user_rating,desc\"\n"
     ],
     "output_type":"stream"
    }
   ],
   "metadata":{
    "datalore":{
     "node_id":"5dRyyLYVSqhpIvgmoSo0zV",
     "type":"CODE",
     "hide_input_from_viewers":false,
     "hide_output_from_viewers":false
    }
   }
  },
  {
   "cell_type":"code",
   "source":[
    "# read html\n",
    "imdb <- read_html(url)"
   ],
   "execution_count":6,
   "outputs":[
    
   ],
   "metadata":{
    "datalore":{
     "node_id":"jVUJ6xyXIiQGo8Lt6QjIPW",
     "type":"CODE",
     "hide_input_from_viewers":false,
     "hide_output_from_viewers":false
    }
   }
  },
  {
   "cell_type":"code",
   "source":[
    "imdb"
   ],
   "execution_count":7,
   "outputs":[
    {
     "data":{
      "text\/plain":[
       "{html_document}\n",
       "<html xmlns:og=\"http:\/\/ogp.me\/ns#\" xmlns:fb=\"http:\/\/www.facebook.com\/2008\/fbml\">\n",
       "[1] <head>\\n<meta http-equiv=\"Content-Type\" content=\"text\/html; charset=UTF-8 ...\n",
       "[2] <body id=\"styleguide-v2\" class=\"fixed\">\\n            <img height=\"1\" widt ..."
      ]
     },
     "metadata":{
      
     },
     "output_type":"display_data"
    }
   ],
   "metadata":{
    "datalore":{
     "node_id":"KxIXWnY3VjHBkjsOHnpTQw",
     "type":"CODE",
     "hide_input_from_viewers":false,
     "hide_output_from_viewers":false
    }
   }
  },
  {
   "cell_type":"code",
   "source":[
    "# movie title\n",
    "titles <- imdb %>%\n",
    "    html_nodes(\"h3.lister-item-header\") %>%\n",
    "    html_text2()"
   ],
   "execution_count":8,
   "outputs":[
    
   ],
   "metadata":{
    "datalore":{
     "node_id":"H1cakeP1QZPoLWoFfjghK4",
     "type":"CODE",
     "hide_input_from_viewers":false,
     "hide_output_from_viewers":false
    }
   }
  },
  {
   "cell_type":"code",
   "source":[
    "titles[1:10]"
   ],
   "execution_count":9,
   "outputs":[
    {
     "data":{
      "text\/html":[
       "<style>\n",
       ".list-inline {list-style: none; margin:0; padding: 0}\n",
       ".list-inline>li {display: inline-block}\n",
       ".list-inline>li:not(:last-child)::after {content: \"\\00b7\"; padding: 0 .5ex}\n",
       "<\/style>\n",
       "<ol class=list-inline><li>'1. The Shawshank Redemption (1994)'<\/li><li>'2. The Godfather (1972)'<\/li><li>'3. The Dark Knight (2008)'<\/li><li>'4. The Lord of the Rings: The Return of the King (2003)'<\/li><li>'5. The Godfather Part II (1974)'<\/li><li>'6. Schindler\\'s List (1993)'<\/li><li>'7. 12 Angry Men (1957)'<\/li><li>'8. Pulp Fiction (1994)'<\/li><li>'9. The Lord of the Rings: The Fellowship of the Ring (2001)'<\/li><li>'10. Fight Club (1999)'<\/li><\/ol>\n"
      ]
     },
     "metadata":{
      
     },
     "output_type":"display_data"
    }
   ],
   "metadata":{
    "datalore":{
     "node_id":"9j47sgyAN7gPZjPwrahr7w",
     "type":"CODE",
     "hide_input_from_viewers":false,
     "hide_output_from_viewers":false
    }
   }
  },
  {
   "cell_type":"code",
   "source":[
    "# rating \n",
    "ratings <- imdb %>%\n",
    "    html_nodes(\"div.ratings-imdb-rating\") %>%\n",
    "    html_text2() %>%\n",
    "    as.numeric()"
   ],
   "execution_count":13,
   "outputs":[
    
   ],
   "metadata":{
    "datalore":{
     "node_id":"ntMKoRIbMzSeFyxqFmcLz0",
     "type":"CODE",
     "hide_input_from_viewers":false,
     "hide_output_from_viewers":false
    }
   }
  },
  {
   "cell_type":"code",
   "source":[
    "ratings[1:10]"
   ],
   "execution_count":15,
   "outputs":[
    {
     "data":{
      "text\/html":[
       "<style>\n",
       ".list-inline {list-style: none; margin:0; padding: 0}\n",
       ".list-inline>li {display: inline-block}\n",
       ".list-inline>li:not(:last-child)::after {content: \"\\00b7\"; padding: 0 .5ex}\n",
       "<\/style>\n",
       "<ol class=list-inline><li>9.3<\/li><li>9.2<\/li><li>9<\/li><li>9<\/li><li>9<\/li><li>9<\/li><li>9<\/li><li>8.9<\/li><li>8.8<\/li><li>8.8<\/li><\/ol>\n"
      ]
     },
     "metadata":{
      
     },
     "output_type":"display_data"
    }
   ],
   "metadata":{
    "datalore":{
     "node_id":"Q1u7Dn1pciarW24CAjC4AZ",
     "type":"CODE",
     "hide_input_from_viewers":false,
     "hide_output_from_viewers":false
    }
   }
  },
  {
   "cell_type":"code",
   "source":[
    "# number of votes\n",
    "num_votes <- imdb %>%\n",
    "    html_nodes(\"p.sort-num_votes-visible\") %>%\n",
    "    html_text2()"
   ],
   "execution_count":16,
   "outputs":[
    
   ],
   "metadata":{
    "datalore":{
     "node_id":"1NDs7R9ckqd7TzSpti2EJo",
     "type":"CODE",
     "hide_input_from_viewers":false,
     "hide_output_from_viewers":false
    }
   }
  },
  {
   "cell_type":"code",
   "source":[
    "# build a dataset\n",
    "df <- data.frame(\n",
    "    title = titles,\n",
    "    rating = ratings,\n",
    "    num_vote = num_votes\n",
    ")\n",
    "\n",
    "head(df)"
   ],
   "execution_count":17,
   "outputs":[
    {
     "data":{
      "text\/html":[
       "<table class=\"dataframe\">\n",
       "<caption>A data.frame: 6 × 3<\/caption>\n",
       "<thead>\n",
       "\t<tr><th><\/th><th scope=col>title<\/th><th scope=col>rating<\/th><th scope=col>num_vote<\/th><\/tr>\n",
       "\t<tr><th><\/th><th scope=col>&lt;chr&gt;<\/th><th scope=col>&lt;dbl&gt;<\/th><th scope=col>&lt;chr&gt;<\/th><\/tr>\n",
       "<\/thead>\n",
       "<tbody>\n",
       "\t<tr><th scope=row>1<\/th><td>1. The Shawshank Redemption (1994)                     <\/td><td>9.3<\/td><td>Votes: 2,683,070 | Gross: $28.34M | Top 250: #1 <\/td><\/tr>\n",
       "\t<tr><th scope=row>2<\/th><td>2. The Godfather (1972)                                <\/td><td>9.2<\/td><td>Votes: 1,860,268 | Gross: $134.97M | Top 250: #2<\/td><\/tr>\n",
       "\t<tr><th scope=row>3<\/th><td>3. The Dark Knight (2008)                              <\/td><td>9.0<\/td><td>Votes: 2,656,494 | Gross: $534.86M | Top 250: #3<\/td><\/tr>\n",
       "\t<tr><th scope=row>4<\/th><td>4. The Lord of the Rings: The Return of the King (2003)<\/td><td>9.0<\/td><td>Votes: 1,848,912 | Gross: $377.85M | Top 250: #7<\/td><\/tr>\n",
       "\t<tr><th scope=row>5<\/th><td>5. The Godfather Part II (1974)                        <\/td><td>9.0<\/td><td>Votes: 1,273,224 | Gross: $57.30M | Top 250: #4 <\/td><\/tr>\n",
       "\t<tr><th scope=row>6<\/th><td>6. Schindler's List (1993)                             <\/td><td>9.0<\/td><td>Votes: 1,357,518 | Gross: $96.90M | Top 250: #6 <\/td><\/tr>\n",
       "<\/tbody>\n",
       "<\/table>\n"
      ]
     },
     "metadata":{
      
     },
     "output_type":"display_data"
    }
   ],
   "metadata":{
    "datalore":{
     "node_id":"Qnt2B5AJcjdR2jgsHvIJga",
     "type":"CODE",
     "hide_input_from_viewers":false,
     "hide_output_from_viewers":false
    }
   }
  },
  {
   "cell_type":"markdown",
   "source":[
    "# SpecPhone"
   ],
   "attachments":{
    
   },
   "metadata":{
    "datalore":{
     "node_id":"SpecPhone",
     "type":"MD",
     "hide_input_from_viewers":false,
     "hide_output_from_viewers":false,
     "sheet_delimiter":true
    }
   }
  },
  {
   "cell_type":"markdown",
   "source":[
    "#  Mini Project 02 - Specphone Phone Database"
   ],
   "attachments":{
    
   },
   "metadata":{
    "datalore":{
     "node_id":"jed9MQemRuOry0mgi5LP2f",
     "type":"MD",
     "hide_input_from_viewers":false,
     "hide_output_from_viewers":false
    }
   }
  },
  {
   "cell_type":"code",
   "source":[
    "library(tidyverse)\n",
    "library(rvest) # scrape data from internet"
   ],
   "execution_count":3,
   "outputs":[
    
   ],
   "metadata":{
    "datalore":{
     "node_id":"hzx2KOJ48qE4q7HCGbqYGe",
     "type":"CODE",
     "hide_input_from_viewers":false,
     "hide_output_from_viewers":false
    }
   }
  },
  {
   "cell_type":"code",
   "source":[
    "url <- read_html(\"https:\/\/specphone.com\/Samsung-Galaxy-A04.html\")"
   ],
   "execution_count":4,
   "outputs":[
    
   ],
   "metadata":{
    "datalore":{
     "node_id":"1Apmsa4joT7SbU2y9xxr21",
     "type":"CODE",
     "hide_input_from_viewers":false,
     "hide_output_from_viewers":false
    }
   }
  },
  {
   "cell_type":"code",
   "source":[
    "att <- url %>%\n",
    "    html_nodes(\"div.topic\") %>%\n",
    "    html_text2()\n",
    "\n",
    "value <- url %>%\n",
    "    html_nodes(\"div.detail\") %>%\n",
    "    html_text2()"
   ],
   "execution_count":5,
   "outputs":[
    
   ],
   "metadata":{
    "datalore":{
     "node_id":"4TcNWtiajcGUvzzcbMp9H9",
     "type":"CODE",
     "hide_input_from_viewers":false,
     "hide_output_from_viewers":false
    }
   }
  },
  {
   "cell_type":"code",
   "source":[
    "data.frame(attribute = att, value = value)"
   ],
   "execution_count":6,
   "outputs":[
    {
     "data":{
      "text\/html":[
       "<table class=\"dataframe\">\n",
       "<caption>A data.frame: 31 × 2<\/caption>\n",
       "<thead>\n",
       "\t<tr><th scope=col>attribute<\/th><th scope=col>value<\/th><\/tr>\n",
       "\t<tr><th scope=col>&lt;chr&gt;<\/th><th scope=col>&lt;chr&gt;<\/th><\/tr>\n",
       "<\/thead>\n",
       "<tbody>\n",
       "\t<tr><td>วันเปิดตัว       <\/td><td>ตุลาคม 2565                                                  <\/td><\/tr>\n",
       "\t<tr><td>วันวางจำหน่าย   <\/td><td>ยังไม่วางจำหน่าย                                               <\/td><\/tr>\n",
       "\t<tr><td>ขนาด          <\/td><td>164.40 x 76.30 x 9.10 มม.                                   <\/td><\/tr>\n",
       "\t<tr><td>น้ำหนัก         <\/td><td>192 กรัม                                                     <\/td><\/tr>\n",
       "\t<tr><td>วัสดุ           <\/td><td>Glass front, plastic back, plastic frame                    <\/td><\/tr>\n",
       "\t<tr><td>SIM           <\/td><td>รองรับ 2 ซิมการ์ด (nano sim, nano sim)                         <\/td><\/tr>\n",
       "\t<tr><td>Technology    <\/td><td>HSPA 42.2\/5.76 Mbps, LTE-A                                  <\/td><\/tr>\n",
       "\t<tr><td>2G            <\/td><td>850\/900\/1800\/1900                                           <\/td><\/tr>\n",
       "\t<tr><td>3G            <\/td><td>850\/900\/1900\/2100                                           <\/td><\/tr>\n",
       "\t<tr><td>4G            <\/td><td>850\/900\/1900\/2100\/2600                                      <\/td><\/tr>\n",
       "\t<tr><td>5G            <\/td><td>-                                                           <\/td><\/tr>\n",
       "\t<tr><td>ความเร็ว       <\/td><td>HSPA 42.2\/5.76 Mbps, LTE-A                                  <\/td><\/tr>\n",
       "\t<tr><td>ประเภท        <\/td><td>PLS LCD                                                     <\/td><\/tr>\n",
       "\t<tr><td>ขนาดหน้าจอ     <\/td><td>6.50 นิ้ว                                                     <\/td><\/tr>\n",
       "\t<tr><td>ความละเอียด    <\/td><td>720 x 1600 pixels                                           <\/td><\/tr>\n",
       "\t<tr><td>ระบบปฏิบัติการ   <\/td><td>Android 12                                                  <\/td><\/tr>\n",
       "\t<tr><td>ชิปประมวลผล    <\/td><td>Spreadtrum Unisoc SC9863A 1.6 GHz                           <\/td><\/tr>\n",
       "\t<tr><td>ชิปกราฟิก       <\/td><td>PowerVR GE8322                                              <\/td><\/tr>\n",
       "\t<tr><td>หน่วยความจำ    <\/td><td>3 GB                                                        <\/td><\/tr>\n",
       "\t<tr><td>ความจุ         <\/td><td>32 GB                                                       <\/td><\/tr>\n",
       "\t<tr><td>Memory Card   <\/td><td>microSD (1)                                                 <\/td><\/tr>\n",
       "\t<tr><td>กล้องหลัก       <\/td><td>ตัวที่ 1: 50 MP, f\/1.8, (wide), AF\n",
       "ตัวที่ 2: 2 MP, f\/2.4, (depth)<\/td><\/tr>\n",
       "\t<tr><td>ความละเอียดวีดีโอ<\/td><td>1080p@30fps                                                 <\/td><\/tr>\n",
       "\t<tr><td>กล้องหน้า       <\/td><td>ตัวที่ 1: 5 MP, f\/2.2                                          <\/td><\/tr>\n",
       "\t<tr><td>Bluetooth     <\/td><td>5.0, A2DP, LE                                               <\/td><\/tr>\n",
       "\t<tr><td>Wi-Fi         <\/td><td>802.11 a\/b\/g\/n\/ac, dual-b                                   <\/td><\/tr>\n",
       "\t<tr><td>USB           <\/td><td>Type-C                                                      <\/td><\/tr>\n",
       "\t<tr><td>GPS           <\/td><td>GLONASS, GALILEO, BDS                                       <\/td><\/tr>\n",
       "\t<tr><td>NFC           <\/td><td>ไม่รองรับ                                                     <\/td><\/tr>\n",
       "\t<tr><td>ความจุ         <\/td><td>5,000 mAh                                                   <\/td><\/tr>\n",
       "\t<tr><td>ประเภท        <\/td><td>Non-removable Li-Po Batt                                    <\/td><\/tr>\n",
       "<\/tbody>\n",
       "<\/table>\n"
      ]
     },
     "metadata":{
      
     },
     "output_type":"display_data"
    }
   ],
   "metadata":{
    "datalore":{
     "node_id":"yrH79Lsd7pFOi35EPctENp",
     "type":"CODE",
     "hide_input_from_viewers":false,
     "hide_output_from_viewers":false
    }
   }
  },
  {
   "cell_type":"code",
   "source":[
    "# All Samsung Smartphones\n",
    "samsung_url <- read_html(\"https:\/\/specphone.com\/brand\/Samsung\")"
   ],
   "execution_count":7,
   "outputs":[
    
   ],
   "metadata":{
    "datalore":{
     "node_id":"rQT59NBrawxMcGVrZ5TQxc",
     "type":"CODE",
     "hide_input_from_viewers":false,
     "hide_output_from_viewers":false
    }
   }
  },
  {
   "cell_type":"code",
   "source":[
    "# links to all samsung smartphone\n",
    "links <- samsung_url %>%\n",
    "    html_nodes(\"li.mobile-brand-item a\") %>%\n",
    "    html_attr(\"href\")"
   ],
   "execution_count":8,
   "outputs":[
    
   ],
   "metadata":{
    "datalore":{
     "node_id":"h26tSuF5gkefvb5Wjs3mx2",
     "type":"CODE",
     "hide_input_from_viewers":false,
     "hide_output_from_viewers":false
    }
   }
  },
  {
   "cell_type":"code",
   "source":[
    "full_links <- paste0(\"https:\/\/specphone.com\",links)"
   ],
   "execution_count":9,
   "outputs":[
    
   ],
   "metadata":{
    "datalore":{
     "node_id":"lygF5e8lejaUniiYDKupUM",
     "type":"CODE",
     "hide_input_from_viewers":false,
     "hide_output_from_viewers":false
    }
   }
  },
  {
   "cell_type":"code",
   "source":[
    "result <- data.frame()\n",
    "\n",
    "for (link in full_links[1:10]) {\n",
    "    ss_topic <- link %>%\n",
    "        read_html() %>%\n",
    "        html_nodes(\"div.topic\") %>%\n",
    "        html_text2()\n",
    "\n",
    "    ss_detail <- link %>%\n",
    "        read_html() %>%\n",
    "        html_nodes(\"div.detail\") %>%\n",
    "        html_text2()\n",
    "\n",
    "    tmp <- data.frame(attribute = ss_topic,\n",
    "                      value = ss_detail)\n",
    "\n",
    "    result <- bind_rows(result, tmp)\n",
    "    print(\"Progress ...\")\n",
    "}\n",
    "\n",
    "print(result)"
   ],
   "execution_count":10,
   "outputs":[
    {
     "name":"stdout",
     "text":[
      "[1] \"Progress ...\"\n",
      "[1] \"Progress ...\"\n",
      "[1] \"Progress ...\"\n",
      "[1] \"Progress ...\"\n",
      "[1] \"Progress ...\"\n",
      "[1] \"Progress ...\"\n",
      "[1] \"Progress ...\"\n",
      "[1] \"Progress ...\"\n",
      "[1] \"Progress ...\"\n",
      "[1] \"Progress ...\"\n",
      "         attribute\n",
      "1          วันเปิดตัว\n",
      "2      วันวางจำหน่าย\n",
      "3             ขนาด\n",
      "4            น้ำหนัก\n",
      "5              วัสดุ\n",
      "6              SIM\n",
      "7       Technology\n",
      "8               2G\n",
      "9               3G\n",
      "10              4G\n",
      "11              5G\n",
      "12         ความเร็ว\n",
      "13          ประเภท\n",
      "14       ขนาดหน้าจอ\n",
      "15      ความละเอียด\n",
      "16     ระบบปฏิบัติการ\n",
      "17      ชิปประมวลผล\n",
      "18         ชิปกราฟิก\n",
      "19      หน่วยความจำ\n",
      "20           ความจุ\n",
      "21     Memory Card\n",
      "22         กล้องหลัก\n",
      "23  ความละเอียดวีดีโอ\n",
      "24         กล้องหน้า\n",
      "25       Bluetooth\n",
      "26           Wi-Fi\n",
      "27             USB\n",
      "28             GPS\n",
      "29             NFC\n",
      "30           ความจุ\n",
      "31          ประเภท\n",
      "32   Fast Charging\n",
      "33         วันเปิดตัว\n",
      "34     วันวางจำหน่าย\n",
      "35            ขนาด\n",
      "36           น้ำหนัก\n",
      "37             วัสดุ\n",
      "38             SIM\n",
      "39      Technology\n",
      "40              2G\n",
      "41              3G\n",
      "42              4G\n",
      "43              5G\n",
      "44         ความเร็ว\n",
      "45          ประเภท\n",
      "46       ขนาดหน้าจอ\n",
      "47      ความละเอียด\n",
      "48     ระบบปฏิบัติการ\n",
      "49      ชิปประมวลผล\n",
      "50         ชิปกราฟิก\n",
      "51      หน่วยความจำ\n",
      "52           ความจุ\n",
      "53     Memory Card\n",
      "54         กล้องหลัก\n",
      "55  ความละเอียดวีดีโอ\n",
      "56         กล้องหน้า\n",
      "57       Bluetooth\n",
      "58           Wi-Fi\n",
      "59             USB\n",
      "60             GPS\n",
      "61             NFC\n",
      "62           ความจุ\n",
      "63          ประเภท\n",
      "64   Fast Charging\n",
      "65         วันเปิดตัว\n",
      "66     วันวางจำหน่าย\n",
      "67            ขนาด\n",
      "68           น้ำหนัก\n",
      "69             วัสดุ\n",
      "70             SIM\n",
      "71      Technology\n",
      "72              2G\n",
      "73              3G\n",
      "74              4G\n",
      "75              5G\n",
      "76         ความเร็ว\n",
      "77          ประเภท\n",
      "78       ขนาดหน้าจอ\n",
      "79      ความละเอียด\n",
      "80     ระบบปฏิบัติการ\n",
      "81      ชิปประมวลผล\n",
      "82         ชิปกราฟิก\n",
      "83      หน่วยความจำ\n",
      "84           ความจุ\n",
      "85     Memory Card\n",
      "86         กล้องหลัก\n",
      "87  ความละเอียดวีดีโอ\n",
      "88         กล้องหน้า\n",
      "89       Bluetooth\n",
      "90           Wi-Fi\n",
      "91             USB\n",
      "92             GPS\n",
      "93             NFC\n",
      "94           ความจุ\n",
      "95          ประเภท\n",
      "96   Fast Charging\n",
      "97         วันเปิดตัว\n",
      "98     วันวางจำหน่าย\n",
      "99            ขนาด\n",
      "100          น้ำหนัก\n",
      "101            วัสดุ\n",
      "102            SIM\n",
      "103     Technology\n",
      "104             2G\n",
      "105             3G\n",
      "106             4G\n",
      "107             5G\n",
      "108        ความเร็ว\n",
      "109         ประเภท\n",
      "110      ขนาดหน้าจอ\n",
      "111     ความละเอียด\n",
      "112    ระบบปฏิบัติการ\n",
      "113     ชิปประมวลผล\n",
      "114        ชิปกราฟิก\n",
      "115     หน่วยความจำ\n",
      "116          ความจุ\n",
      "117    Memory Card\n",
      "118        กล้องหลัก\n",
      "119 ความละเอียดวีดีโอ\n",
      "120        กล้องหน้า\n",
      "121      Bluetooth\n",
      "122          Wi-Fi\n",
      "123            USB\n",
      "124            GPS\n",
      "125            NFC\n",
      "126          ความจุ\n",
      "127         ประเภท\n",
      "128  Fast Charging\n",
      "129        วันเปิดตัว\n",
      "130    วันวางจำหน่าย\n",
      "131           ขนาด\n",
      "132          น้ำหนัก\n",
      "133            วัสดุ\n",
      "134            SIM\n",
      "135     Technology\n",
      "136             2G\n",
      "137             3G\n",
      "138             4G\n",
      "139             5G\n",
      "140        ความเร็ว\n",
      "141         ประเภท\n",
      "142      ขนาดหน้าจอ\n",
      "143     ความละเอียด\n",
      "144    ระบบปฏิบัติการ\n",
      "145     ชิปประมวลผล\n",
      "146        ชิปกราฟิก\n",
      "147     หน่วยความจำ\n",
      "148          ความจุ\n",
      "149    Memory Card\n",
      "150        กล้องหลัก\n",
      "151 ความละเอียดวีดีโอ\n",
      "152        กล้องหน้า\n",
      "153      Bluetooth\n",
      "154          Wi-Fi\n",
      "155            USB\n",
      "156            GPS\n",
      "157            NFC\n",
      "158          ความจุ\n",
      "159         ประเภท\n",
      "160  Fast Charging\n",
      "161        วันเปิดตัว\n",
      "162    วันวางจำหน่าย\n",
      "163           ขนาด\n",
      "164          น้ำหนัก\n",
      "165            วัสดุ\n",
      "166            SIM\n",
      "167     Technology\n",
      "168             2G\n",
      "169             3G\n",
      "170             4G\n",
      "171             5G\n",
      "172        ความเร็ว\n",
      "173         ประเภท\n",
      "174      ขนาดหน้าจอ\n",
      "175     ความละเอียด\n",
      "176    ฟีเจอร์เพิ่มเติม\n",
      "177    ระบบปฏิบัติการ\n",
      "178     ชิปประมวลผล\n",
      "179        ชิปกราฟิก\n",
      "180     หน่วยความจำ\n",
      "181          ความจุ\n",
      "182    Memory Card\n",
      "183        กล้องหลัก\n",
      "184 ความละเอียดวีดีโอ\n",
      "185        กล้องหน้า\n",
      "186      Bluetooth\n",
      "187          Wi-Fi\n",
      "188            USB\n",
      "189            GPS\n",
      "190            NFC\n",
      "191          ความจุ\n",
      "192         ประเภท\n",
      "193        วันเปิดตัว\n",
      "194    วันวางจำหน่าย\n",
      "195           ขนาด\n",
      "196          น้ำหนัก\n",
      "197            วัสดุ\n",
      "198            SIM\n",
      "199     Technology\n",
      "200             2G\n",
      "201             3G\n",
      "202             4G\n",
      "203             5G\n",
      "204        ความเร็ว\n",
      "205         ประเภท\n",
      "206      ขนาดหน้าจอ\n",
      "207     ความละเอียด\n",
      "208    ฟีเจอร์เพิ่มเติม\n",
      "209    ระบบปฏิบัติการ\n",
      "210     ชิปประมวลผล\n",
      "211        ชิปกราฟิก\n",
      "212     หน่วยความจำ\n",
      "213          ความจุ\n",
      "214    Memory Card\n",
      "215        กล้องหลัก\n",
      "216 ความละเอียดวีดีโอ\n",
      "217        กล้องหน้า\n",
      "218      Bluetooth\n",
      "219          Wi-Fi\n",
      "220            USB\n",
      "221            GPS\n",
      "222            NFC\n",
      "223          ความจุ\n",
      "224         ประเภท\n",
      "225        วันเปิดตัว\n",
      "226    วันวางจำหน่าย\n",
      "227           ขนาด\n",
      "228          น้ำหนัก\n",
      "229            วัสดุ\n",
      "230            SIM\n",
      "231     Technology\n",
      "232             2G\n",
      "233             3G\n",
      "234             4G\n",
      "235             5G\n",
      "236        ความเร็ว\n",
      "237         ประเภท\n",
      "238      ขนาดหน้าจอ\n",
      "239     ความละเอียด\n",
      "240    ฟีเจอร์เพิ่มเติม\n",
      "241    ระบบปฏิบัติการ\n",
      "242     ชิปประมวลผล\n",
      "243        ชิปกราฟิก\n",
      "244     หน่วยความจำ\n",
      "245          ความจุ\n",
      "246    Memory Card\n",
      "247        กล้องหลัก\n",
      "248 ความละเอียดวีดีโอ\n",
      "249        กล้องหน้า\n",
      "250      Bluetooth\n",
      "251          Wi-Fi\n",
      "252            USB\n",
      "253            GPS\n",
      "254            NFC\n",
      "255          ความจุ\n",
      "256         ประเภท\n",
      "257        วันเปิดตัว\n",
      "258    วันวางจำหน่าย\n",
      "259           ขนาด\n",
      "260          น้ำหนัก\n",
      "261            วัสดุ\n",
      "262            SIM\n",
      "263     Technology\n",
      "264             2G\n",
      "265             3G\n",
      "266             4G\n",
      "267             5G\n",
      "268        ความเร็ว\n",
      "269         ประเภท\n",
      "270      ขนาดหน้าจอ\n",
      "271     ความละเอียด\n",
      "272    ระบบปฏิบัติการ\n",
      "273     ชิปประมวลผล\n",
      "274        ชิปกราฟิก\n",
      "275     หน่วยความจำ\n",
      "276          ความจุ\n",
      "277    Memory Card\n",
      "278        กล้องหลัก\n",
      "279 ความละเอียดวีดีโอ\n",
      "280        กล้องหน้า\n",
      "281      Bluetooth\n",
      "282          Wi-Fi\n",
      "283            USB\n",
      "284            GPS\n",
      "285            NFC\n",
      "286          ความจุ\n",
      "287         ประเภท\n",
      "288        วันเปิดตัว\n",
      "289    วันวางจำหน่าย\n",
      "290           ขนาด\n",
      "291          น้ำหนัก\n",
      "292            วัสดุ\n",
      "293            SIM\n",
      "294     Technology\n",
      "295             2G\n",
      "296             3G\n",
      "297             4G\n",
      "298             5G\n",
      "299        ความเร็ว\n",
      "300         ประเภท\n",
      "301      ขนาดหน้าจอ\n",
      "302     ความละเอียด\n",
      "303    ฟีเจอร์เพิ่มเติม\n",
      "304    ระบบปฏิบัติการ\n",
      "305     ชิปประมวลผล\n",
      "306        ชิปกราฟิก\n",
      "307     หน่วยความจำ\n",
      "308          ความจุ\n",
      "309    Memory Card\n",
      "310        กล้องหลัก\n",
      "311 ความละเอียดวีดีโอ\n",
      "312        กล้องหน้า\n",
      "313      Bluetooth\n",
      "314          Wi-Fi\n",
      "315            USB\n",
      "316            GPS\n",
      "317            NFC\n",
      "318          ความจุ\n",
      "319         ประเภท\n",
      "                                                                                                                                                                                                                                                                                             value\n",
      "1                                                                                                                                                                                                                                                                                      มิถุนายน 2565\n",
      "2                                                                                                                                                                                                                                                                                    ยังไม่วางจำหน่าย\n",
      "3                                                                                                                                                                                                                                                                        165.40 x 76.90 x 8.40 มม.\n",
      "4                                                                                                                                                                                                                                                                                          192 กรัม\n",
      "5                                                                                                                                                                                                                                                         Glass front, plastic back, plastic frame\n",
      "6                                                                                                                                                                                                                                                              รองรับ 2 ซิมการ์ด (nano sim, nano sim)\n",
      "7                                                                                                                                                                                                                                                                       HSPA 42.2\/5.76 Mbps, LTE-A\n",
      "8                                                                                                                                                                                                                                                                                850\/900\/1800\/1900\n",
      "9                                                                                                                                                                                                                                                                                850\/900\/1900\/2100\n",
      "10                                                                                                                                                                                                                                                                               850\/900\/1900\/2100\n",
      "11                                                                                                                                                                                                                                                                                               -\n",
      "12                                                                                                                                                                                                                                                                      HSPA 42.2\/5.76 Mbps, LTE-A\n",
      "13                                                                                                                                                                                                                                                                                         PLS LCD\n",
      "14                                                                                                                                                                                                                                                                                         6.60 นิ้ว\n",
      "15                                                                                                                                                                                                                                                                              1080 x 2408 pixels\n",
      "16                                                                                                                                                                                                                                                                                      Android 12\n",
      "17                                                                                                                                                                                                                                                                Samsung Exynos 850 S5E3830 2 GHz\n",
      "18                                                                                                                                                                                                                                                                                    Mali-G52 MP1\n",
      "19                                                                                                                                                                                                                                                                                            4 GB\n",
      "20                                                                                                                                                                                                                                                                                           64 GB\n",
      "21                                                                                                                                                                                                                                                                                     microSD (1)\n",
      "22                                                                                                                                                                                            ตัวที่ 1: 50 MP, f\/1.8, (wide), PDAF\\nตัวที่ 2: 5 MP, f\/2.2, 123˚ (ultrawide)\\nตัวที่ 3: 2 MP, f\/2.4, (depth)\n",
      "23                                                                                                                                                                                                                                                                                     1080p@30fps\n",
      "24                                                                                                                                                                                                                                                                      ตัวที่ 1: 8 MP, f\/2.2, (wide)\n",
      "25                                                                                                                                                                                                                                                                                   5.0, A2DP, LE\n",
      "26                                                                                                                                                                                                                                                                       802.11 a\/b\/g\/n\/ac, dual-b\n",
      "27                                                                                                                                                                                                                                                                                          Type-C\n",
      "28                                                                                                                                                                                                                                                                        A-GPS, GLONASS, GALILEO,\n",
      "29                                                                                                                                                                                                                                                                                           รอบรับ\n",
      "30                                                                                                                                                                                                                                                                                       5,000 mAh\n",
      "31                                                                                                                                                                                                                                                                        Non-removable Li-Po Batt\n",
      "32                                                                                                                                                                                                                                                                                     รองรับ (15W)\n",
      "33                                                                                                                                                                                                                                                                                     มิถุนายน 2564\n",
      "34                                                                                                                                                                                                                                                                                   ยังไม่วางจำหน่าย\n",
      "35                                                                                                                                                                                                                                                                       164.50 x 76.90 x 8.40 มม.\n",
      "36                                                                                                                                                                                                                                                                                         195 กรัม\n",
      "37                                                                                                                                                                                                                                                        Glass front, plastic frame, plastic back\n",
      "38                                                                                                                                                                                                                                                             รองรับ 2 ซิมการ์ด (nano sim, nano sim)\n",
      "39                                                                                                                                                                                                                                                                      HSPA 42.2\/5.76 Mbps, LTE-A\n",
      "40                                                                                                                                                                                                                                                                               850\/900\/1800\/1900\n",
      "41                                                                                                                                                                                                                                                                               850\/900\/1900\/2100\n",
      "42                                                                                                                                                                                                                                                                          850\/900\/1900\/2100\/2600\n",
      "43                                                                                                                                                                                                                                                                                               -\n",
      "44                                                                                                                                                                                                                                                                      HSPA 42.2\/5.76 Mbps, LTE-A\n",
      "45                                                                                                                                                                                                                                                                                             TFT\n",
      "46                                                                                                                                                                                                                                                                                         6.60 นิ้ว\n",
      "47                                                                                                                                                                                                                                                                              1080 x 2408 pixels\n",
      "48                                                                                                                                                                                                                                                                                      Android 12\n",
      "49                                                                                                                                                                                                                                                       Qualcomm Snapdragon 680 4G SM6225 2.4 GHz\n",
      "50                                                                                                                                                                                                                                                                                      Adreno 610\n",
      "51                                                                                                                                                                                                                                                                                            8 GB\n",
      "52                                                                                                                                                                                                                                                                                          128 GB\n",
      "53                                                                                                                                                                                                                                                                                     microSD (1)\n",
      "54                                                                                                                                                               ตัวที่ 1: 50 MP, f\/1.8, (wide), PDAF\\nตัวที่ 2: 5 MP, f\/2.2, (ultrawide), 1\/5\\nตัวที่ 3: 2 MP, f\/2.4, (macro)\\nตัวที่ 4: 2 MP, f\/2.4, (depth)\n",
      "55                                                                                                                                                                                                                                                                                     1080p@30fps\n",
      "56                                                                                                                                                                                                                                                                      ตัวที่ 1: 8 MP, f\/2.2, (wide)\n",
      "57                                                                                                                                                                                                                                                                                             5.0\n",
      "58                                                                                                                                                                                                                                                                               802.11 a\/b\/g\/n\/ac\n",
      "59                                                                                                                                                                                                                                                                                          Type-C\n",
      "60                                                                                                                                                                                                                                                                        A-GPS, GLONASS, GALILEO,\n",
      "61                                                                                                                                                                                                                                                                                         ไม่รองรับ\n",
      "62                                                                                                                                                                                                                                                                                       5,000 mAh\n",
      "63                                                                                                                                                                                                                                                                        Non-removable Li-Po Batt\n",
      "64                                                                                                                                                                                                                                                                                     รองรับ (25W)\n",
      "65                                                                                                                                                                                                                                                                                     กันยายน 2564\n",
      "66                                                                                                                                                                                                                                                                                   ยังไม่วางจำหน่าย\n",
      "67                                                                                                                                                                                                                                                                       165.10 x 76.40 x 8.80 มม.\n",
      "68                                                                                                                                                                                                                                                                                         195 กรัม\n",
      "69                                                                                                                                                                                                                                      Glass front (Gorilla Glass 5), plastic frame, plastic back\n",
      "70                                                                                                                                                                                                                                                             รองรับ 2 ซิมการ์ด (nano sim, nano sim)\n",
      "71                                                                                                                                                                                                                                                                      HSPA 42.2\/5.76 Mbps, LTE-A\n",
      "72                                                                                                                                                                                                                                                                               850\/900\/1800\/1900\n",
      "73                                                                                                                                                                                                                                                                               850\/900\/1900\/2100\n",
      "74                                                                                                                                                                                                                                                                          850\/900\/1900\/2100\/2600\n",
      "75                                                                                                                                                                                                                                                                                               -\n",
      "76                                                                                                                                                                                                                                                                      HSPA 42.2\/5.76 Mbps, LTE-A\n",
      "77                                                                                                                                                                                                                                                                                             TFT\n",
      "78                                                                                                                                                                                                                                                                                         6.60 นิ้ว\n",
      "79                                                                                                                                                                                                                                                                              1080 x 2408 pixels\n",
      "80                                                                                                                                                                                                                                                                                      Android 12\n",
      "81                                                                                                                                                                                                                                                                Samsung Exynos 850 S5E3830 2 GHz\n",
      "82                                                                                                                                                                                                                                                                                    Mali-G52 MP1\n",
      "83                                                                                                                                                                                                                                                                                            4 GB\n",
      "84                                                                                                                                                                                                                                                                                          128 GB\n",
      "85                                                                                                                                                                                                                                                                                     microSD (1)\n",
      "86                                                                                                                                                               ตัวที่ 1: 50 MP, f\/1.8, (wide), PDAF\\nตัวที่ 2: 5 MP, f\/2.2, (ultrawide), 1\/5\\nตัวที่ 3: 2 MP, f\/2.4, (macro)\\nตัวที่ 4: 2 MP, f\/2.4, (depth)\n",
      "87                                                                                                                                                                                                                                                                                     1080p@30fps\n",
      "88                                                                                                                                                                                                                                                                      ตัวที่ 1: 8 MP, f\/2.2, (wide)\n",
      "89                                                                                                                                                                                                                                                                                   5.0, A2DP, LE\n",
      "90                                                                                                                                                                                                                                                                       802.11 b\/g\/n, Wi-Fi Direc\n",
      "91                                                                                                                                                                                                                                                                                          Type-C\n",
      "92                                                                                                                                                                                                                                                                        A-GPS, GLONASS, GALILEO,\n",
      "93                                                                                                                                                                                                                                                                                         ไม่รองรับ\n",
      "94                                                                                                                                                                                                                                                                                       5,000 mAh\n",
      "95                                                                                                                                                                                                                                                                        Non-removable Li-Po Batt\n",
      "96                                                                                                                                                                                                                                                                                     รองรับ (25W)\n",
      "97                                                                                                                                                                                                                                                                                     สิงหาคม 2564\n",
      "98                                                                                                                                                                                                                                                                                   ยังไม่วางจำหน่าย\n",
      "99                                                                                                                                                                                                                                                                       164.20 x 76.60 x 9.00 มม.\n",
      "100                                                                                                                                                                                                                                                                                        205 กรัม\n",
      "101                                                                                                                                                                                                                                                       Glass front, plastic frame, plastic back\n",
      "102                                                                                                                                                                                                                                                            รองรับ 2 ซิมการ์ด (nano sim, nano sim)\n",
      "103                                                                                                                                                                                                                                                                     HSPA 42.2\/5.76 Mbps, LTE-A\n",
      "104                                                                                                                                                                                                                                                                              850\/900\/1800\/1900\n",
      "105                                                                                                                                                                                                                                                                              850\/900\/1900\/2100\n",
      "106                                                                                                                                                                                                                                                                         850\/900\/1900\/2100\/2600\n",
      "107                                                                                                                                                                                                                                                                            2100\/2600\/3500\/4700\n",
      "108                                                                                                                                                                                                                                                                     HSPA 42.2\/5.76 Mbps, LTE-A\n",
      "109                                                                                                                                                                                                                                                                                            LCD\n",
      "110                                                                                                                                                                                                                                                                                        6.50 นิ้ว\n",
      "111                                                                                                                                                                                                                                                                              720 x 1600 pixels\n",
      "112                                                                                                                                                                                                                                                                                     Android 11\n",
      "113                                                                                                                                                                                                                                                            MediaTek Dimensity 720 MT6853 2 GHz\n",
      "114                                                                                                                                                                                                                                                                                   Mali-G57 MC3\n",
      "115                                                                                                                                                                                                                                                                                           8 GB\n",
      "116                                                                                                                                                                                                                                                                                         128 GB\n",
      "117                                                                                                                                                                                                                                                                                    microSD (1)\n",
      "118                                                                                                                                                                                           ตัวที่ 1: 48 MP, 26mm (wide)\\nตัวที่ 2: 8 MP, 123˚ (ultrawide)\\nตัวที่ 3: 5 MP, (macro)\\nตัวที่ 4: 2 MP, (depth)\n",
      "119                                                                                                                                                                                                                                                                                    1080p@30fps\n",
      "120                                                                                                                                                                                                                                                                           ตัวที่ 1: 13 MP, (wide)\n",
      "121                                                                                                                                                                                                                                                                                  5.0, A2DP, LE\n",
      "122                                                                                                                                                                                                                                                                      802.11 a\/b\/g\/n\/ac, dual-b\n",
      "123                                                                                                                                                                                                                                                                                         Type-C\n",
      "124                                                                                                                                                                                                                                                                      with A-GPS, GLONASS, BDS,\n",
      "125                                                                                                                                                                                                                                                                                        ไม่รองรับ\n",
      "126                                                                                                                                                                                                                                                                                      5,000 mAh\n",
      "127                                                                                                                                                                                                                                                                       Non-removable Li-Po Batt\n",
      "128                                                                                                                                                                                                                                                                                    รองรับ (15W)\n",
      "129                                                                                                                                                                                                                                                                                    สิงหาคม 2564\n",
      "130                                                                                                                                                                                                                                                                                  ยังไม่วางจำหน่าย\n",
      "131                                                                                                                                                                                                                                                                      164.00 x 75.80 x 8.90 มม.\n",
      "132                                                                                                                                                                                                                                                                                        205 กรัม\n",
      "133                                                                                                                                                                                                                                                       Glass front, plastic back, plastic frame\n",
      "134                                                                                                                                                                                                                                                            รองรับ 2 ซิมการ์ด (nano sim, nano sim)\n",
      "135                                                                                                                                                                                                                                                      HSPA 42.2\/5.76 Mbps, LTE Cat4 150\/50 Mbps\n",
      "136                                                                                                                                                                                                                                                                              850\/900\/1800\/1900\n",
      "137                                                                                                                                                                                                                                                                              850\/900\/1900\/2100\n",
      "138                                                                                                                                                                                                                                                                         850\/900\/1900\/2100\/2600\n",
      "139                                                                                                                                                                                                                                                                                              -\n",
      "140                                                                                                                                                                                                                                                      HSPA 42.2\/5.76 Mbps, LTE Cat4 150\/50 Mbps\n",
      "141                                                                                                                                                                                                                                                                                        IPS LCD\n",
      "142                                                                                                                                                                                                                                                                                        6.50 นิ้ว\n",
      "143                                                                                                                                                                                                                                                                              720 x 1600 pixels\n",
      "144                                                                                                                                                                                                                                                                                     Android 11\n",
      "145                                                                                                                                                                                                                                                               Samsung Exynos 850 S5E3830 2 GHz\n",
      "146                                                                                                                                                                                                                                                                                   Mali-G52 MP1\n",
      "147                                                                                                                                                                                                                                                                                           4 GB\n",
      "148                                                                                                                                                                                                                                                                                         128 GB\n",
      "149                                                                                                                                                                                                                                                                                        ไม่รองรับ\n",
      "150                                                                                                                                                           ตัวที่ 1: 48 MP, f\/2.0, 26mm (wide), AF\\nตัวที่ 2: 5 MP, f\/2.2, 123˚ (ultrawide)\\nตัวที่ 3: 2 MP, f\/2.4, (macro)\\nตัวที่ 4: 2 MP, f\/2.4, (depth)\n",
      "151                                                                                                                                                                                                                                                                                    1080p@30fps\n",
      "152                                                                                                                                                                                                                                                                             ตัวที่ 1: 8 MP, f\/2.2\n",
      "153                                                                                                                                                                                                                                                                                  5.0, A2DP, LE\n",
      "154                                                                                                                                                                                                                                                                      802.11 b\/g\/n, Wi-Fi Direc\n",
      "155                                                                                                                                                                                                                                                                                         Type-C\n",
      "156                                                                                                                                                                                                                                                                      with A-GPS, GLONASS, GALI\n",
      "157                                                                                                                                                                                                                                                                                        ไม่รองรับ\n",
      "158                                                                                                                                                                                                                                                                                      5,000 mAh\n",
      "159                                                                                                                                                                                                                                                                       Non-removable Li-Po Batt\n",
      "160                                                                                                                                                                                                                                                                                    รองรับ (15W)\n",
      "161                                                                                                                                                                                                                                                                                    เมษายน 2556\n",
      "162                                                                                                                                                                                                                                                                      มิถุนายน 2556, วางจำหน่ายแล้ว\n",
      "163                                                                                                                                                                                                                                                                     105.00 x 57.80 x 11.80 มม.\n",
      "164                                                                                                                                                                                                                                                                                        101 กรัม\n",
      "165                                                                                                                                                                                                                                                                                        Plastic\n",
      "166                                                                                                                                                                                                                                                                                 รองรับ 1 ซิมการ์ด\n",
      "167                                                                                                                                                                                                                                                                                GPRS,EDGE, HSPA\n",
      "168                                                                                                                                                                                                                                                                              850\/900\/1800\/1900\n",
      "169                                                                                                                                                                                                                                                                                       900\/2100\n",
      "170                                                                                                                                                                                                                                                                                              -\n",
      "171                                                                                                                                                                                                                                                                                              -\n",
      "172                                                                                                                                                                                                                                                                                GPRS,EDGE, HSPA\n",
      "173                                                                                                                                                                                                                                                                                        TFT LCD\n",
      "174                                                                                                                                                                                                                                                                                        3.00 นิ้ว\n",
      "175                                                                                                                                                                                                                                                                               320 x 240 pixels\n",
      "176                                            สามารถให้ PC ใช้อินเตอร์เน็ตของสมาร์ทโฟนได้ด้วย Internet Tethering\\r\\nสามารถใช้งาน Mobile Hotspot โดยแชร์อินเตอร์เน็ตบนสมาร์ทโฟนให้กับเครื่องอื่นๆแบบไร้สายได้\\r\\nสามารถใช้งานเป็น USB Mass Storage ได้เพื่อโอนหรือย้ายข้อมูลบน PC\\r\\nใช้อินเตอร์เฟซ TouchWiz UI มาพร้อมกับ Android 4.1\n",
      "177                                                                                                                                                                                                                                                                                    Android 4.1\n",
      "178                                                                                                                                                                                                                                                                              Single Core 0 MHz\n",
      "179                                                                                                                                                                                                                                                                                             -1\n",
      "180                                                                                                                                                                                                                                                                                         512 MB\n",
      "181                                                                                                                                                                                                                                                                                           4 GB\n",
      "182                                                                                                                                                                                                                                                                                   microSD (32)\n",
      "183                                                                                                                                                                                                                                                                                    ตัวที่ 1: 2 MP\n",
      "184                                                                                                                                                                                                                                                                                             -1\n",
      "185                                                                                                                                                                                                                                                                                               \n",
      "186                                                                                                                                                                                                                                                                                              4\n",
      "187                                                                                                                                                                                                                                                                                    802.11b\/g\/n\n",
      "188                                                                                                                                                                                                                                                                                      micro USB\n",
      "189                                                                                                                                                                                                                                                                                 AGPS , Glonass\n",
      "190                                                                                                                                                                                                                                                                                        ไม่รองรับ\n",
      "191                                                                                                                                                                                                                                                                                      1,200 mAh\n",
      "192                                                                                                                                                                                                                                                                                         Li-ion\n",
      "193                                                                                                                                                                                                                                                                                   กุมภาพันธ์ 2556\n",
      "194                                                                                                                                                                                                                                                                  มิถุนายน 2556, สินค้าจำหน่ายหมดแล้ว\n",
      "195                                                                                                                                                                                                                                                                     109.40 x 58.60 x 12.50 มม.\n",
      "196                                                                                                                                                                                                                                                                                        112 กรัม\n",
      "197                                                                                                                                                                                                                                                                                        Plastic\n",
      "198                                                                                                                                                                                                                                                                                 รองรับ 1 ซิมการ์ด\n",
      "199                                                                                                                                                                                                                                                                                GPRS,EDGE, HSPA\n",
      "200                                                                                                                                                                                                                                                                              850\/900\/1800\/1900\n",
      "201                                                                                                                                                                                                                                                                                       900\/2100\n",
      "202                                                                                                                                                                                                                                                                                              -\n",
      "203                                                                                                                                                                                                                                                                                              -\n",
      "204                                                                                                                                                                                                                                                                                GPRS,EDGE, HSPA\n",
      "205                                                                                                                                                                                                                                                                                        TFT LCD\n",
      "206                                                                                                                                                                                                                                                                                        3.27 นิ้ว\n",
      "207                                                                                                                                                                                                                                                                               480 x 320 pixels\n",
      "208 สามารถให้ PC ใช้อินเตอร์เน็ตของสมาร์ทโฟนได้ด้วย Internet Tethering\\r\\nสามารถใช้งาน Mobile Hotspot โดยแชร์อินเตอร์เน็ตบนสมาร์ทโฟนให้กับเครื่องอื่นๆแบบไร้สายได้\\r\\nสามารถใช้งานเป็น USB Mass Storage ได้เพื่อโอนหรือย้ายข้อมูลบน PC\\r\\nใช้อินเตอร์เฟซ TouchWiz UI มาพร้อมกับ Android 4.1 \\r\\nใช้กระจกแบบ Gorilla Glass ป้องกันรอยขีดข่วน\n",
      "209                                                                                                                                                                                                                                                                                    Android 4.1\n",
      "210                                                                                                                                                                                                                                                                              Single Core 0 MHz\n",
      "211                                                                                                                                                                                                                                                                                             -1\n",
      "212                                                                                                                                                                                                                                                                                         768 MB\n",
      "213                                                                                                                                                                                                                                                                                           4 GB\n",
      "214                                                                                                                                                                                                                                                                                   microSD (64)\n",
      "215                                                                                                                                                                                                                                                                                    ตัวที่ 1: 3 MP\n",
      "216                                                                                                                                                                                                                                                                                             -1\n",
      "217                                                                                                                                                                                                                                                                                               \n",
      "218                                                                                                                                                                                                                                                                                              4\n",
      "219                                                                                                                                                                                                                                                                                    802.11b\/g\/n\n",
      "220                                                                                                                                                                                                                                                                                      micro USB\n",
      "221                                                                                                                                                                                                                                                                                           AGPS\n",
      "222                                                                                                                                                                                                                                                                                        ไม่รองรับ\n",
      "223                                                                                                                                                                                                                                                                                      1,300 mAh\n",
      "224                                                                                                                                                                                                                                                                                         Li-ion\n",
      "225                                                                                                                                                                                                                                                                                   พฤษภาคม 2559\n",
      "226                                                                                                                                                                                                                                                                 พฤษภาคม 2559, สินค้าจำหน่ายหมดแล้ว\n",
      "227                                                                                                                                                                                                                                                                     121.60 x 63.10 x 10.80 มม.\n",
      "228                                                                                                                                                                                                                                                                                        123 กรัม\n",
      "229                                                                                                                                                                                                                                                                                        Plastic\n",
      "230                                                                                                                                                                                                                                                                      รองรับ 2 ซิมการ์ด (n\/a, n\/a)\n",
      "231                                                                                                                                                                                                                                                                                     EDGE, HSPA\n",
      "232                                                                                                                                                                                                                                                                              850\/900\/1800\/1900\n",
      "233                                                                                                                                                                                                                                                                                   850\/900\/2100\n",
      "234                                                                                                                                                                                                                                                                                              -\n",
      "235                                                                                                                                                                                                                                                                                              -\n",
      "236                                                                                                                                                                                                                                                                                     EDGE, HSPA\n",
      "237                                                                                                                                                                                                                                                                                        TFT LCD\n",
      "238                                                                                                                                                                                                                                                                                        4.00 นิ้ว\n",
      "239                                                                                                                                                                                                                                                                               800 x 480 pixels\n",
      "240                                                                                                                                                                                                                    สามารถแชร์อินเตอร์เน็ตให้อุปกรณ์อื่นได้\\r\\nใช้เป็น Diskdrive ได้เพื่อโอนหรือย้ายข้อมูลบน PC ได้\n",
      "241                                                                                                                                                                                                                                                                                    Android 5.1\n",
      "242                                                                                                                                                                                                                                                                      Spreadtrum SC8830 1.2 GHz\n",
      "243                                                                                                                                                                                                                                                                                   VideoCore IV\n",
      "244                                                                                                                                                                                                                                                                                         750 MB\n",
      "245                                                                                                                                                                                                                                                                                           8 GB\n",
      "246                                                                                                                                                                                                                                                                                  microSD (128)\n",
      "247                                                                                                                                                                                                                                                                                    ตัวที่ 1: 5 MP\n",
      "248                                                                                                                                                                                                                                                                                   720p (30fps)\n",
      "249                                                                                                                                                                                                                                                                                      ตัวที่ 1: MP\n",
      "250                                                                                                                                                                                                                                                                                            4.0\n",
      "251                                                                                                                                                                                                                                                                                   802.11 b\/g\/n\n",
      "252                                                                                                                                                                                                                                                                                      micro USB\n",
      "253                                                                                                                                                                                                                                                                                   GPS, Glonass\n",
      "254                                                                                                                                                                                                                                                                                        ไม่รองรับ\n",
      "255                                                                                                                                                                                                                                                                                      1,500 mAh\n",
      "256                                                                                                                                                                                                                                                                                         Li-ion\n",
      "257                                                                                                                                                                                                                                                                                    สิงหาคม 2563\n",
      "258                                                                                                                                                                                                                                                                      สิงหาคม 2563, วางจำหน่ายแล้ว\n",
      "259                                                                                                                                                                                                                                                                      141.70 x 67.50 x 8.60 มม.\n",
      "260                                                                                                                                                                                                                                                                                        150 กรัม\n",
      "261                                                                                                                                                                                                                                                                                        Plastic\n",
      "262                                                                                                                                                                                                                                                            รองรับ 2 ซิมการ์ด (nano sim, nano sim)\n",
      "263                                                                                                                                                                                                                                                                               EDGE, HSPA+, LTE\n",
      "264                                                                                                                                                                                                                                                                              850\/900\/1800\/1900\n",
      "265                                                                                                                                                                                                                                                                              850\/900\/1900\/2100\n",
      "266                                                                                                                                                                                                                                                                              850\/900\/1900\/2100\n",
      "267                                                                                                                                                                                                                                                                                              -\n",
      "268                                                                                                                                                                                                                                                                               EDGE, HSPA+, LTE\n",
      "269                                                                                                                                                                                                                                                                                        PLS LCD\n",
      "270                                                                                                                                                                                                                                                                                        5.30 นิ้ว\n",
      "271                                                                                                                                                                                                                                                                              1480 x 720 pixels\n",
      "272                                                                                                                                                                                                                                                                                  Android 10 Go\n",
      "273                                                                                                                                                                                                                                                                        MediaTek MT6739 1.5 GHz\n",
      "274                                                                                                                                                                                                                                                                                 PowerVR GE8100\n",
      "275                                                                                                                                                                                                                                                                                           1 GB\n",
      "276                                                                                                                                                                                                                                                                                          16 GB\n",
      "277                                                                                                                                                                                                                                                                                  microSD (512)\n",
      "278                                                                                                                                                                                                                                                                         ตัวที่ 1: 8 MP, f\/2.2, AF\n",
      "279                                                                                                                                                                                                                                                                                    1080p@30fps\n",
      "280                                                                                                                                                                                                                                                                             ตัวที่ 1: 5 MP, f\/2.4\n",
      "281                                                                                                                                                                                                                                                                                  5.0, A2DP, LE\n",
      "282                                                                                                                                                                                                                                                                                   802.11 b\/g\/n\n",
      "283                                                                                                                                                                                                                                                                                      micro USB\n",
      "284                                                                                                                                                                                                                                                                                          A-GPS\n",
      "285                                                                                                                                                                                                                                                                                        ไม่รองรับ\n",
      "286                                                                                                                                                                                                                                                                                      3,000 mAh\n",
      "287                                                                                                                                                                                                                                                                           Non-removable Li-Ion\n",
      "288                                                                                                                                                                                                                                                                                    มิถุนายน 2558\n",
      "289                                                                                                                                                                                                                                                                      มิถุนายน 2558, วางจำหน่ายแล้ว\n",
      "290                                                                                                                                                                                                                                                                     121.40 x 62.90 x 10.70 มม.\n",
      "291                                                                                                                                                                                                                                                                                        123 กรัม\n",
      "292                                                                                                                                                                                                                                                                                        Plastic\n",
      "293                                                                                                                                                                                                                                                          รองรับ 2 ซิมการ์ด (micro sim, micro sim)\n",
      "294                                                                                                                                                                                                                                                                                     EDGE, HSPA\n",
      "295                                                                                                                                                                                                                                                                              850\/900\/1800\/1900\n",
      "296                                                                                                                                                                                                                                                                                       900\/2100\n",
      "297                                                                                                                                                                                                                                                                                              -\n",
      "298                                                                                                                                                                                                                                                                                              -\n",
      "299                                                                                                                                                                                                                                                                                     EDGE, HSPA\n",
      "300                                                                                                                                                                                                                                                                                        TFT LCD\n",
      "301                                                                                                                                                                                                                                                                                        4.00 นิ้ว\n",
      "302                                                                                                                                                                                                                                                                               800 x 480 pixels\n",
      "303                              สามารถให้ PC ใช้อินเตอร์เน็ตของสมาร์ทโฟนได้ด้วย Internet Tethering\\r\\nสามารถใช้งาน Mobile Hotspot โดยแชร์อินเตอร์เน็ตบนสมาร์ทโฟนให้กับเครื่องอื่นๆแบบไร้สายได้\\r\\nสามารถใช้งานเป็น USB Mass Storage ได้เพื่อโอนหรือย้ายข้อมูลบน PC\\r\\nใช้อินเตอร์เฟซ TouchWiz UX มาพร้อมกับ Android 4.4\\r\\nรองรับ 2 ซิม\n",
      "304                                                                                                                                                                                                                                                                                    Android 4.4\n",
      "305                                                                                                                                                                                                                                                                                Dual Core 0 MHz\n",
      "306                                                                                                                                                                                                                                                                                   VideoCore IV\n",
      "307                                                                                                                                                                                                                                                                                         512 MB\n",
      "308                                                                                                                                                                                                                                                                                           4 GB\n",
      "309                                                                                                                                                                                                                                                                                   microSD (64)\n",
      "310                                                                                                                                                                                                                                                                                    ตัวที่ 1: 3 MP\n",
      "311                                                                                                                                                                                                                                                                                            480\n",
      "312                                                                                                                                                                                                                                                                                      ตัวที่ 1: MP\n",
      "313                                                                                                                                                                                                                                                                                              4\n",
      "314                                                                                                                                                                                                                                                                                    802.11b\/g\/n\n",
      "315                                                                                                                                                                                                                                                                                      micro USB\n",
      "316                                                                                                                                                                                                                                                                                   Glonass, GPS\n",
      "317                                                                                                                                                                                                                                                                                        ไม่รองรับ\n",
      "318                                                                                                                                                                                                                                                                                      1,500 mAh\n",
      "319                                                                                                                                                                                                                                                                                         Li-ion\n"
     ],
     "output_type":"stream"
    }
   ],
   "metadata":{
    "datalore":{
     "node_id":"orexCvrWWkhS5OZy66UYkg",
     "type":"CODE",
     "hide_input_from_viewers":false,
     "hide_output_from_viewers":false
    }
   }
  },
  {
   "cell_type":"code",
   "source":[
    "print(head(result))"
   ],
   "execution_count":11,
   "outputs":[
    {
     "name":"stdout",
     "text":[
      "    attribute                                    value\n",
      "1     วันเปิดตัว                              มิถุนายน 2565\n",
      "2 วันวางจำหน่าย                            ยังไม่วางจำหน่าย\n",
      "3        ขนาด                165.40 x 76.90 x 8.40 มม.\n",
      "4       น้ำหนัก                                  192 กรัม\n",
      "5         วัสดุ Glass front, plastic back, plastic frame\n",
      "6         SIM      รองรับ 2 ซิมการ์ด (nano sim, nano sim)\n"
     ],
     "output_type":"stream"
    }
   ],
   "metadata":{
    "datalore":{
     "node_id":"mP1lw4RLfIXafO0PCG1BNc",
     "type":"CODE",
     "hide_input_from_viewers":false,
     "hide_output_from_viewers":false
    }
   }
  },
  {
   "cell_type":"code",
   "source":[
    "# write csv\n",
    "write_csv(result, \"result_ss_phone.csv\")"
   ],
   "execution_count":64,
   "outputs":[
    
   ],
   "metadata":{
    "datalore":{
     "node_id":"gNv3grGxv3AyYx2sFaZLZA",
     "type":"CODE",
     "hide_input_from_viewers":false,
     "hide_output_from_viewers":false
    }
   }
  }
 ],
 "metadata":{
  "kernelspec":{
   "display_name":"R",
   "language":"r",
   "name":"ir"
  },
  "datalore":{
   "version":1,
   "computation_mode":"JUPYTER",
   "package_manager":"conda",
   "base_environment":"minimal",
   "packages":[
    
   ]
  }
 },
 "nbformat":4,
 "nbformat_minor":4
}